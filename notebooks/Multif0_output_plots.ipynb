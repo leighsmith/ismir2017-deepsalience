{
 "cells": [
  {
   "cell_type": "markdown",
   "metadata": {},
   "source": [
    "Contains plots used in the paper.\n",
    "Plots of the multif0 output of the same track for each algorithm"
   ]
  },
  {
   "cell_type": "code",
   "execution_count": null,
   "metadata": {},
   "outputs": [],
   "source": [
    "import numpy as np\n",
    "import os\n",
    "import medleydb as mdb\n",
    "import codecs\n",
    "import matplotlib.patches as mp\n",
    "import glob\n",
    "import mir_eval\n",
    "import pandas as pd\n",
    "import csv\n",
    "import matplotlib.pyplot as plt\n",
    "import seaborn as sns\n",
    "sns.set()\n",
    "%matplotlib inline"
   ]
  },
  {
   "cell_type": "code",
   "execution_count": null,
   "metadata": {},
   "outputs": [],
   "source": [
    "cd ../deepsalience/"
   ]
  },
  {
   "cell_type": "code",
   "execution_count": null,
   "metadata": {},
   "outputs": [],
   "source": [
    "import compute_training_data as C\n",
    "import evaluate"
   ]
  },
  {
   "cell_type": "code",
   "execution_count": null,
   "metadata": {},
   "outputs": [],
   "source": [
    "cd ../notebooks/"
   ]
  },
  {
   "cell_type": "code",
   "execution_count": null,
   "metadata": {},
   "outputs": [],
   "source": [
    "def mf0_to_plot_array(times, freqs):\n",
    "    plot_times = []\n",
    "    plot_freqs = []\n",
    "    for t, freq in zip(times, freqs):\n",
    "        for f in freq:\n",
    "            plot_times.append(t)\n",
    "            plot_freqs.append(f)\n",
    "    return plot_times, plot_freqs"
   ]
  },
  {
   "cell_type": "code",
   "execution_count": null,
   "metadata": {},
   "outputs": [],
   "source": [
    "def load_multif0_cnn(fpath):\n",
    "    with open(fpath, 'r') as fhandle:\n",
    "        reader = csv.reader(fhandle, delimiter='\\t')\n",
    "        freqs = [line for line in reader]\n",
    "        times = C.get_time_grid(len(freqs))\n",
    "    return times, freqs"
   ]
  },
  {
   "cell_type": "markdown",
   "metadata": {},
   "source": [
    "### plot for bach10"
   ]
  },
  {
   "cell_type": "code",
   "execution_count": null,
   "metadata": {},
   "outputs": [],
   "source": [
    "trackid = '05_DieNacht'\n",
    "cnn_npy = \"../comparisons/multif0/experiment11b_output/{}_prediction.npy\".format(trackid)\n",
    "benetos_output = '../comparisons/multif0/algorithm_outputs/bach10/benetos/{}.txt'.format('-'.join(trackid.split('_')))\n",
    "duan_output = '../comparisons/multif0/algorithm_outputs/bach10/duan/{}_multif0_mirexf0.txt'.format(trackid)\n",
    "gt_output = '../comparisons/multif0/datasets/bach10/gt_F0/{}_GTF0s.txt'.format(trackid)"
   ]
  },
  {
   "cell_type": "code",
   "execution_count": null,
   "metadata": {},
   "outputs": [],
   "source": [
    "trackid = 'SQ01_Beethoven'\n",
    "cnn_npy = \"../comparisons/multif0/experiment11b_output/{}_prediction.npy\".format(trackid)\n",
    "benetos_output = '../comparisons/multif0/algorithm_outputs/su/benetos/{}.txt'.format(trackid)\n",
    "duan_output = '../comparisons/multif0/algorithm_outputs/su/duan/{}_audiomirexf0.txt'.format(trackid)\n",
    "gt_output = '../comparisons/multif0/datasets/Su_multif0/gt_F0/{}_F0.txt'.format(trackid)"
   ]
  },
  {
   "cell_type": "code",
   "execution_count": null,
   "metadata": {},
   "outputs": [],
   "source": [
    "trackid = 'MatthewEntwistle_ImpressionsOfSaturn'\n",
    "cnn_npy = \"../comparisons/multif0/experiment11b_output/{}_prediction.npy\".format(trackid)\n",
    "benetos_output = '../comparisons/multif0/algorithm_outputs/mdb_test/benetos/{}_multif0_MIX16.wav.txt'.format(trackid)\n",
    "duan_output = '../comparisons/multif0/algorithm_outputs/mdb_test/duan/{}_multif0_MIX16mirexf0.txt'.format(trackid)\n",
    "gt_output = '../comparisons/multif0/datasets/mdb_test/gt_F0/{}.txt'.format(trackid)"
   ]
  },
  {
   "cell_type": "code",
   "execution_count": null,
   "metadata": {},
   "outputs": [],
   "source": [
    "Y = np.load(cnn_npy)\n",
    "c_times, c_freqs = evaluate.pitch_activations_to_mf0(Y, 0.3)\n",
    "b_times, b_freqs = mir_eval.io.load_ragged_time_series(benetos_output)\n",
    "d_times, d_freqs = mir_eval.io.load_ragged_time_series(duan_output)\n",
    "g_times, g_freqs = mir_eval.io.load_ragged_time_series(gt_output)"
   ]
  },
  {
   "cell_type": "code",
   "execution_count": null,
   "metadata": {},
   "outputs": [],
   "source": [
    "ct, cf = mf0_to_plot_array(c_times, c_freqs)\n",
    "bt, bf = mf0_to_plot_array(b_times, b_freqs)\n",
    "dt, df = mf0_to_plot_array(d_times, d_freqs)\n",
    "gt, gf = mf0_to_plot_array(g_times, g_freqs)"
   ]
  },
  {
   "cell_type": "code",
   "execution_count": null,
   "metadata": {},
   "outputs": [],
   "source": [
    "sns.set(font_scale=1.5)\n",
    "sns.set_style('white')\n",
    "\n",
    "yticks = [64, 64*2, 64*4, 64*8, 64*16]\n",
    "xlim = [100, 180]\n",
    "ylim = [50, 2048]\n",
    "loc = 2\n",
    "\n",
    "colors = [\"#E1D89F\", \"#8EA8BD\", \"#CF6766\"]\n",
    "\n",
    "cnn = mp.Patch(color=colors[2], label='CNN')\n",
    "ben = mp.Patch(color=colors[1], label='Benetos')\n",
    "dua = mp.Patch(color=colors[0], label='Duan')\n",
    "gnd = mp.Patch(color='k', label=\"Ground Truth\")\n",
    "\n",
    "plt.figure(figsize=(15, 5))\n",
    "# plt.suptitle(trackid)\n",
    "plt.subplot(1, 3, 1)\n",
    "plt.semilogy(gt, gf, '.k', basey=2, markersize=8)\n",
    "plt.semilogy(ct, cf, '.', color=colors[2], basey=2, markersize=4)\n",
    "plt.xlim(xlim)\n",
    "plt.ylim(ylim)\n",
    "plt.yticks(yticks, yticks)\n",
    "plt.xlabel(\"Time (sec)\")\n",
    "plt.ylabel(\"Frequency (Hz)\")\n",
    "plt.legend(handles=[gnd, cnn], loc=loc)\n",
    "\n",
    "plt.subplot(1, 3, 2)\n",
    "plt.semilogy(gt, gf, '.k', basey=2, markersize=8)\n",
    "plt.semilogy(bt, bf, '.', basey=2, color=colors[1], markersize=4)\n",
    "plt.xlim(xlim)\n",
    "plt.ylim(ylim)\n",
    "plt.yticks([])\n",
    "plt.xlabel(\"Time (sec)\")\n",
    "plt.legend(handles=[gnd, ben], loc=loc)\n",
    "\n",
    "plt.subplot(1, 3, 3)\n",
    "plt.semilogy(gt, gf, '.k', basey=2, markersize=8)\n",
    "plt.semilogy(dt, df, '.', basey=2, color=colors[0], markersize=4)\n",
    "plt.xlim(xlim)\n",
    "plt.ylim(ylim)\n",
    "plt.yticks([])\n",
    "plt.xlabel(\"Time (sec)\")\n",
    "plt.legend(handles=[gnd, dua], loc=loc)\n",
    "\n",
    "plt.tight_layout()\n",
    "plt.subplots_adjust(wspace=None, hspace=None)\n",
    "\n",
    "plt.savefig(\"../paper-figs/{}_mf0_comparison.pdf\".format(trackid), format='pdf', bbox_inches='tight')"
   ]
  },
  {
   "cell_type": "code",
   "execution_count": null,
   "metadata": {},
   "outputs": [],
   "source": []
  }
 ],
 "metadata": {
  "kernelspec": {
   "display_name": "Python 2",
   "language": "python",
   "name": "python2"
  },
  "language_info": {
   "codemirror_mode": {
    "name": "ipython",
    "version": 2
   },
   "file_extension": ".py",
   "mimetype": "text/x-python",
   "name": "python",
   "nbconvert_exporter": "python",
   "pygments_lexer": "ipython2",
   "version": "2.7.13"
  }
 },
 "nbformat": 4,
 "nbformat_minor": 2
}
