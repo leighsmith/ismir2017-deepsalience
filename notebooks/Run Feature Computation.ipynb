{
 "cells": [
  {
   "cell_type": "markdown",
   "metadata": {},
   "source": [
    "Notebook used to compute input HCQTs and targets for every track for different task types\n",
    "\n",
    "In each cell we manually run a script with the given parameters"
   ]
  },
  {
   "cell_type": "code",
   "execution_count": null,
   "metadata": {},
   "outputs": [],
   "source": [
    "cd ../deepsalience"
   ]
  },
  {
   "cell_type": "code",
   "execution_count": null,
   "metadata": {},
   "outputs": [],
   "source": [
    "# import medleydb as mdb\n",
    "# import numpy as np\n",
    "# import os\n",
    "\n",
    "\n",
    "# mel1_dir = \"/scratch/rmb456/multif0_ismir2017/training_data_with_blur/melody1/\"\n",
    "# mel2_dir = \"/scratch/rmb456/multif0_ismir2017/training_data_with_blur/melody2/\"\n",
    "# mel3_dir = \"/scratch/rmb456/multif0_ismir2017/training_data_with_blur/melody3/\"\n",
    "# mf0_incomplete = \"/scratch/rmb456/multif0_ismir2017/training_data_with_blur/multif0_incomplete/\"\n",
    "# mf0_complete = \"/scratch/rmb456/multif0_ismir2017/training_data_with_blur/multif0_complete/\"\n",
    "\n",
    "# mtracks = mdb.load_all_multitracks(\n",
    "#     dataset_version=['V1', 'V2', 'EXTRA']\n",
    "# )\n",
    "\n",
    "# for mtrack in mtracks:\n",
    "# #     print(mtrack.track_id)\n",
    "#     fpath = os.path.join(mel1_dir, 'inputs', '{}_mel1_input.npy'.format(mtrack.track_id))\n",
    "#     if not os.path.exists(fpath):\n",
    "# #         print(\"   > no npy file\")\n",
    "#         continue\n",
    "\n",
    "#     data = np.load(fpath, mmap_mode='r')\n",
    "\n",
    "#     if data.shape[0] != 6:\n",
    "#         print(mtrack.track_id)\n",
    "#         print(\"   > {}\".format(data.shape))\n",
    "#         os.remove(fpath)\n",
    "#         os.remove(os.path.join(mel2_dir, 'inputs', '{}_mel2_input.npy'.format(mtrack.track_id)))\n",
    "#         os.remove(os.path.join(mel3_dir, 'inputs', '{}_mel3_input.npy'.format(mtrack.track_id)))\n",
    "#         os.remove(os.path.join(mf0_incomplete, 'inputs', '{}_multif0_incomplete_input.npy'.format(mtrack.track_id)))"
   ]
  },
  {
   "cell_type": "code",
   "execution_count": null,
   "metadata": {},
   "outputs": [],
   "source": [
    "%run compute_training_data.py --help"
   ]
  },
  {
   "cell_type": "code",
   "execution_count": null,
   "metadata": {},
   "outputs": [],
   "source": [
    "%run compute_training_data.py \"/scratch/rmb456/multif0_ismir2017/training_data_with_blur/pitch/\" \"solo_pitch\" -1 \"\" \"--blur-labels\"\n"
   ]
  },
  {
   "cell_type": "code",
   "execution_count": null,
   "metadata": {},
   "outputs": [],
   "source": [
    "%run compute_training_data.py \"/scratch/rmb456/multif0_ismir2017/training_data_with_blur/melody1/\" \"melody1\" -1 \"/scratch/rmb456/multif0_ismir2017/training_data_with_blur/melody1/inputs/\" \"--blur-labels\"\n",
    "\n"
   ]
  },
  {
   "cell_type": "code",
   "execution_count": null,
   "metadata": {},
   "outputs": [],
   "source": [
    "%run compute_training_data.py \"/scratch/rmb456/multif0_ismir2017/training_data_with_blur/multif0_complete/\" \"multif0_complete\" -1 '' \"--blur-labels\"\n",
    "\n"
   ]
  },
  {
   "cell_type": "code",
   "execution_count": null,
   "metadata": {},
   "outputs": [],
   "source": [
    "%run compute_training_data.py \"/scratch/rmb456/multif0_ismir2017/training_data_with_blur/melody2/\" \"melody2\" -1 \"/scratch/rmb456/multif0_ismir2017/training_data_with_blur/melody1/inputs/\" \"--blur-labels\"\n"
   ]
  },
  {
   "cell_type": "code",
   "execution_count": null,
   "metadata": {},
   "outputs": [],
   "source": [
    "%run compute_training_data.py \"/scratch/rmb456/multif0_ismir2017/training_data_with_blur/melody3/\" \"melody3\" -1 \"/scratch/rmb456/multif0_ismir2017/training_data_with_blur/melody1/inputs\" \"--blur-labels\"\n",
    "\n"
   ]
  },
  {
   "cell_type": "code",
   "execution_count": null,
   "metadata": {},
   "outputs": [],
   "source": [
    "%run compute_training_data.py \"/scratch/rmb456/multif0_ismir2017/training_data_with_blur/multif0_incomplete/\" \"multif0_incomplete\" -1 \"/scratch/rmb456/multif0_ismir2017/training_data_with_blur/melody1/inputs\" \"--blur-labels\"\n",
    "\n"
   ]
  },
  {
   "cell_type": "code",
   "execution_count": null,
   "metadata": {},
   "outputs": [],
   "source": [
    "%run compute_training_data.py \"/scratch/rmb456/multif0_ismir2017/training_data_with_blur/bass/\" \"bass\" -1 \"/scratch/rmb456/multif0_ismir2017/training_data_with_blur/melody1/inputs\" \"--blur-labels\"\n",
    "\n",
    "\n"
   ]
  },
  {
   "cell_type": "code",
   "execution_count": null,
   "metadata": {},
   "outputs": [],
   "source": [
    "%run compute_training_data.py \"/scratch/rmb456/multif0_ismir2017/training_data_with_blur/vocal/\" \"vocal\" -1 \"/scratch/rmb456/multif0_ismir2017/training_data_with_blur/melody1/inputs\" \"--blur-labels\"\n",
    "\n",
    "\n"
   ]
  },
  {
   "cell_type": "code",
   "execution_count": null,
   "metadata": {},
   "outputs": [],
   "source": [
    "data_dir = (\"/scratch/rmb456/multif0_ismir2017/\" +\n",
    "    \"training_data_with_blur/multif0_complete\")"
   ]
  },
  {
   "cell_type": "code",
   "execution_count": null,
   "metadata": {},
   "outputs": [],
   "source": [
    "import medleydb as mdb\n",
    "import glob\n",
    "import shutil\n",
    "import os"
   ]
  },
  {
   "cell_type": "code",
   "execution_count": null,
   "metadata": {},
   "outputs": [],
   "source": [
    "mtracks = list(mtracks)"
   ]
  },
  {
   "cell_type": "code",
   "execution_count": null,
   "metadata": {},
   "outputs": [],
   "source": [
    "new_dir = \"/scratch/rmb456/multif0_ismir2017/training_data_with_blur/multif0_complete/bad_extras\""
   ]
  },
  {
   "cell_type": "code",
   "execution_count": null,
   "metadata": {},
   "outputs": [],
   "source": [
    "mtracks = mdb.load_all_multitracks(dataset_version=['EXTRA'])\n",
    "good_count = 0\n",
    "bad_count = 0\n",
    "\n",
    "for mtrack in mtracks:\n",
    "    bad_mtrack = False\n",
    "    for stem in mtrack.stems.values():\n",
    "        if stem.pitch_estimate_pyin is not None:\n",
    "\n",
    "            if 'p' in stem.f0_type:\n",
    "                bad_mtrack = True\n",
    "                print(stem.instrument)\n",
    "    if bad_mtrack:\n",
    "        bad_count += 1\n",
    "        print mtrack.track_id\n",
    "    else:\n",
    "        good_count += 1\n",
    "        \n",
    "        \n",
    "    if bad_mtrack:\n",
    "        flist = glob.glob(os.path.join(data_dir, \"{}*\".format(mtrack.track_id)))\n",
    "        if len(flist) > 0:\n",
    "            for f in flist:\n",
    "                bname = os.path.basename(f)\n",
    "                os.rename(f, os.path.join(new_dir, bname))\n"
   ]
  },
  {
   "cell_type": "code",
   "execution_count": null,
   "metadata": {},
   "outputs": [],
   "source": [
    "mtracks = mdb.load_all_multitracks(dataset_version=['V1'])\n",
    "for mtrack in mtracks:\n",
    "    if mtrack.has_melody:\n",
    "        flist = glob.glob(os.path.join(data_dir, \"{}*\".format(mtrack.track_id)))\n",
    "        if len(flist) > 0:\n",
    "            for f in flist:\n",
    "                print(f)\n",
    "                os.remove(f)\n"
   ]
  },
  {
   "cell_type": "code",
   "execution_count": null,
   "metadata": {},
   "outputs": [],
   "source": [
    "rm /scratch/rmb456/multif0_ismir2017/training_data_with_blur/multif0_complete/*/TrevorAndTheSoundwaves_AloneAndSad_multif0_complete*.npy"
   ]
  },
  {
   "cell_type": "code",
   "execution_count": null,
   "metadata": {},
   "outputs": [],
   "source": [
    "x = 5\n",
    "print(x)"
   ]
  },
  {
   "cell_type": "code",
   "execution_count": null,
   "metadata": {},
   "outputs": [],
   "source": []
  }
 ],
 "metadata": {
  "kernelspec": {
   "display_name": "Python 2",
   "language": "python",
   "name": "python2"
  },
  "language_info": {
   "codemirror_mode": {
    "name": "ipython",
    "version": 2
   },
   "file_extension": ".py",
   "mimetype": "text/x-python",
   "name": "python",
   "nbconvert_exporter": "python",
   "pygments_lexer": "ipython2",
   "version": "2.7.13"
  }
 },
 "nbformat": 4,
 "nbformat_minor": 2
}
