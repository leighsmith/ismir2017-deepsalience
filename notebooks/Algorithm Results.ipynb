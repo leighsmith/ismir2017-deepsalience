{
 "cells": [
  {
   "cell_type": "code",
   "execution_count": null,
   "metadata": {},
   "outputs": [],
   "source": [
    "cd ../deepsalience/"
   ]
  },
  {
   "cell_type": "code",
   "execution_count": null,
   "metadata": {},
   "outputs": [],
   "source": [
    "import evaluate\n",
    "import glob\n",
    "import os\n",
    "import mir_eval\n",
    "import pandas"
   ]
  },
  {
   "cell_type": "markdown",
   "metadata": {},
   "source": [
    "## evaluate"
   ]
  },
  {
   "cell_type": "code",
   "execution_count": null,
   "metadata": {},
   "outputs": [],
   "source": [
    "def get_mf0_scores(est_path, ref_path, test_set_name, algorithm_name):\n",
    "\n",
    "    all_scores = []\n",
    "    est_files = glob.glob(os.path.join(est_path, '*.txt'))\n",
    "\n",
    "    for est_file in est_files:\n",
    "        print(est_file)\n",
    "#         print(ref_file)\n",
    "        file_key = \"_\".join(os.path.basename(est_file).replace('-', '_').split('_')[:2])\n",
    "        file_key = file_key.split('.')[0]\n",
    "        print(file_key)\n",
    "        file_glob = glob.glob(os.path.join(ref_path, '{}*.txt'.format(file_key)))\n",
    "        if len(file_glob) > 1:\n",
    "            print(file_glob)\n",
    "        ref_file = file_glob[0]\n",
    "\n",
    "#         print(ref_file)\n",
    "        # load ground truth labels\n",
    "        ref_times, ref_freqs = \\\n",
    "            mir_eval.io.load_ragged_time_series(ref_file)\n",
    "        \n",
    "#         for i, (tms, fqs) in enumerate(zip(ref_times, ref_freqs)):\n",
    "#             if any(fqs == 0):\n",
    "#                 ref_freqs[i] = np.array([f for f in fqs if f > 0])\n",
    "\n",
    "#         print(ref_freqs)\n",
    "        # load est labels\n",
    "        est_times, est_freqs = \\\n",
    "            mir_eval.io.load_ragged_time_series(est_file)\n",
    "\n",
    "            \n",
    "        # get multif0 metrics and append\n",
    "        scores = mir_eval.multipitch.evaluate(\n",
    "            ref_times, ref_freqs, est_times, est_freqs)\n",
    "        scores['track'] = file_key\n",
    "        all_scores.append(scores)\n",
    "    \n",
    "    # save scores to data frame\n",
    "    save_path = '/Users/bittner/Dropbox/MARL/repos/multif0/comparisons/algorithm_outputs'\n",
    "    scores_path = os.path.join(\n",
    "        save_path, '{}_{}_all_scores.csv'.format(test_set_name, algorithm_name)\n",
    "    )\n",
    "    score_summary_path = os.path.join(\n",
    "        save_path, \"{}_{}_score_summary.csv\".format(test_set_name, algorithm_name)\n",
    "    )\n",
    "    df = pandas.DataFrame(all_scores)\n",
    "    df.to_csv(scores_path)\n",
    "    df.describe().to_csv(score_summary_path)\n",
    "    print(df.describe())"
   ]
  },
  {
   "cell_type": "code",
   "execution_count": null,
   "metadata": {},
   "outputs": [],
   "source": [
    "get_mf0_scores(\n",
    "    '../comparisons/algorithm_outputs/bach10/benetos/',\n",
    "    '../comparisons/bach10/',\n",
    "    'bach10', 'benetos'\n",
    ")"
   ]
  },
  {
   "cell_type": "code",
   "execution_count": null,
   "metadata": {},
   "outputs": [],
   "source": [
    "get_mf0_scores(\n",
    "    '../comparisons/algorithm_outputs/bach10/duan/',\n",
    "    '../comparisons/bach10/',\n",
    "    'bach10', 'duan'\n",
    ")"
   ]
  },
  {
   "cell_type": "code",
   "execution_count": null,
   "metadata": {},
   "outputs": [],
   "source": [
    "get_mf0_scores(\n",
    "    '../comparisons/algorithm_outputs/su/duan/',\n",
    "    '../comparisons/Su_multif0/gt_F0/',\n",
    "    'su', 'duan'\n",
    ")"
   ]
  },
  {
   "cell_type": "code",
   "execution_count": null,
   "metadata": {},
   "outputs": [],
   "source": [
    "get_mf0_scores(\n",
    "    '../comparisons/algorithm_outputs/su/benetos/',\n",
    "    '../comparisons/Su_multif0/gt_F0/',\n",
    "    'su', 'benetos'\n",
    ")"
   ]
  },
  {
   "cell_type": "code",
   "execution_count": null,
   "metadata": {},
   "outputs": [],
   "source": [
    "import numpy as np\n",
    "get_mf0_scores(\n",
    "    '../comparisons/algorithm_outputs/mdb_test/duan/',\n",
    "    '../comparisons/mdb_test/',\n",
    "    'mdb_test', 'duan'\n",
    ")"
   ]
  },
  {
   "cell_type": "code",
   "execution_count": null,
   "metadata": {},
   "outputs": [],
   "source": [
    "get_mf0_scores(\n",
    "    '../comparisons/algorithm_outputs/mdb_test/benetos/',\n",
    "    '../comparisons/mdb_test/',\n",
    "    'mdb_test', 'benetos'\n",
    ")"
   ]
  },
  {
   "cell_type": "code",
   "execution_count": null,
   "metadata": {},
   "outputs": [],
   "source": [
    "fpath1 = '../comparisons/algorithm_outputs/mdb_test/benetos/Phoenix_SeanCaughlinsTheScartaglen_multif0_MIX16.wav.txt'\n",
    "fpath2 = '../comparisons/mdb_test/Phoenix_SeanCaughlinsTheScartaglen.txt'\n",
    "\n",
    "est_times, est_freqs = mir_eval.io.load_ragged_time_series(fpath1)\n",
    "ref_times, ref_freqs = mir_eval.io.load_ragged_time_series(fpath2)"
   ]
  },
  {
   "cell_type": "code",
   "execution_count": null,
   "metadata": {},
   "outputs": [],
   "source": [
    "def get_tf(times, freqs):\n",
    "    t_array = []\n",
    "    f_array = []\n",
    "    for t, freqs in zip(times, freqs):\n",
    "        for f in freqs:\n",
    "            t_array.append(t)\n",
    "            f_array.append(f)\n",
    "    return t_array, f_array"
   ]
  },
  {
   "cell_type": "code",
   "execution_count": null,
   "metadata": {},
   "outputs": [],
   "source": [
    "est_t, est_f = get_tf(est_times, est_freqs)\n",
    "ref_t, ref_f = get_tf(ref_times, ref_freqs)\n",
    "\n",
    "import matplotlib.pyplot as plt\n",
    "%matplotlib inline\n",
    "plt.figure(figsize=(15, 7))\n",
    "plt.plot(est_t, est_f, '.r')\n",
    "plt.plot(ref_t, ref_f, '.b')\n",
    "plt.show()"
   ]
  },
  {
   "cell_type": "code",
   "execution_count": null,
   "metadata": {},
   "outputs": [],
   "source": [
    "freqs"
   ]
  },
  {
   "cell_type": "code",
   "execution_count": null,
   "metadata": {},
   "outputs": [],
   "source": []
  }
 ],
 "metadata": {
  "kernelspec": {
   "display_name": "Python 2",
   "language": "python",
   "name": "python2"
  },
  "language_info": {
   "codemirror_mode": {
    "name": "ipython",
    "version": 2
   },
   "file_extension": ".py",
   "mimetype": "text/x-python",
   "name": "python",
   "nbconvert_exporter": "python",
   "pygments_lexer": "ipython2",
   "version": "2.7.9"
  }
 },
 "nbformat": 4,
 "nbformat_minor": 1
}
