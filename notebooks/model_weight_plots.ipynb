{
 "cells": [
  {
   "cell_type": "markdown",
   "metadata": {},
   "source": [
    "A bunch of different plots that were used in the paper, plus some that didn't make the cut:\n",
    "\n",
    "1) First layer activations\n",
    "\n",
    "2) Fourth layer activations\n",
    "\n",
    "3) **Penultimate layer activations**\n",
    "\n",
    "4-6) Filter weights\n",
    "\n",
    "7) **Qualitative Input HCQT -- Predicted Output -- Target Output Example**\n",
    "\n",
    "8) **Example of all layers of the HCQT and Target output**\n"
   ]
  },
  {
   "cell_type": "code",
   "execution_count": null,
   "metadata": {},
   "outputs": [],
   "source": [
    "import keras\n",
    "import matplotlib.pyplot as plt\n",
    "import numpy as np\n",
    "%matplotlib inline"
   ]
  },
  {
   "cell_type": "code",
   "execution_count": null,
   "metadata": {},
   "outputs": [],
   "source": [
    "cd ../deepsalience/"
   ]
  },
  {
   "cell_type": "code",
   "execution_count": null,
   "metadata": {},
   "outputs": [],
   "source": [
    "import multif0_exper11_batchin"
   ]
  },
  {
   "cell_type": "code",
   "execution_count": null,
   "metadata": {},
   "outputs": [],
   "source": [
    "model = multif0_exper11_batchin.model_def()"
   ]
  },
  {
   "cell_type": "code",
   "execution_count": null,
   "metadata": {},
   "outputs": [],
   "source": [
    "model.load_weights(\"../comparisons/multif0/experiment11b_output/multif0_exper11_batchin.pkl\")"
   ]
  },
  {
   "cell_type": "code",
   "execution_count": null,
   "metadata": {},
   "outputs": [],
   "source": [
    "model.summary(line_length=90)"
   ]
  },
  {
   "cell_type": "code",
   "execution_count": null,
   "metadata": {},
   "outputs": [],
   "source": [
    "npy_file = \"../paper-figs/VS01_Schumann_audio_input.npy\"\n",
    "data = np.load(npy_file).transpose(1, 2, 0)[np.newaxis, :, :, :]\n",
    "\n",
    "intermediate_layer_bendy1 = keras.models.Model(inputs=model.input,\n",
    "                                 outputs=model.get_layer('bendy1').output)\n",
    "intermediate_layer_bendy2 = keras.models.Model(inputs=model.input,\n",
    "                                 outputs=model.get_layer('bendy2').output)\n",
    "intermediate_layer_smoothy1 = keras.models.Model(inputs=model.input,\n",
    "                                 outputs=model.get_layer('smoothy1').output)\n",
    "intermediate_layer_smoothy2 = keras.models.Model(inputs=model.input,\n",
    "                                 outputs=model.get_layer('smoothy2').output)\n",
    "intermediate_layer_distr = keras.models.Model(inputs=model.input,\n",
    "                                 outputs=model.get_layer('distribute').output)\n"
   ]
  },
  {
   "cell_type": "code",
   "execution_count": null,
   "metadata": {},
   "outputs": [],
   "source": [
    "intermediate_output_bendy1 = intermediate_layer_bendy1.predict(data)"
   ]
  },
  {
   "cell_type": "code",
   "execution_count": null,
   "metadata": {},
   "outputs": [],
   "source": [
    "plt.figure(figsize=(15, 10))\n",
    "for i, layer in enumerate([0, 1, 3, 4, 5, 7, 8, 10, 11, 12, 15, 40]):\n",
    "    plt.subplot(3, 4, i + 1)\n",
    "    plt.imshow(intermediate_output_bendy1[0, :, 250:700, layer], origin='lower', cmap='hot')\n",
    "    plt.axis('tight')\n",
    "    plt.axis('off')\n",
    "plt.subplots_adjust(wspace=-8, hspace=-10)\n",
    "plt.tight_layout()\n",
    "plt.savefig(\"../paper-figs/bendy1_activations.pdf\", format='pdf')"
   ]
  },
  {
   "cell_type": "code",
   "execution_count": null,
   "metadata": {},
   "outputs": [],
   "source": [
    "intermediate_output_smoothy2 = intermediate_layer_smoothy2.predict(data)"
   ]
  },
  {
   "cell_type": "code",
   "execution_count": null,
   "metadata": {},
   "outputs": [],
   "source": [
    "plt.figure(figsize=(15, 10))\n",
    "for i, layer in enumerate([0, 1, 2, 3, 4, 5, 6, 7, 8, 9, 10, 11]):\n",
    "    plt.subplot(3, 4, i + 1)\n",
    "    plt.imshow(intermediate_output_smoothy2[0, :, 250:700, layer], origin='lower', cmap='hot')\n",
    "    plt.axis('tight')\n",
    "    plt.axis('off')\n",
    "plt.subplots_adjust(wspace=-8, hspace=-10)\n",
    "plt.tight_layout()\n",
    "plt.savefig(\"../paper-figs/smoothy2_activations.pdf\", format='pdf')"
   ]
  },
  {
   "cell_type": "code",
   "execution_count": null,
   "metadata": {},
   "outputs": [],
   "source": [
    "intermediate_output_distr = intermediate_layer_distr.predict(data)"
   ]
  },
  {
   "cell_type": "code",
   "execution_count": null,
   "metadata": {},
   "outputs": [],
   "source": [
    "conv_layer = model.get_layer(name='squishy')\n",
    "weights = conv_layer.get_weights()\n",
    "w = weights[0][0, 0, :, 0]\n",
    "\n",
    "constrained = intermediate_output_distr[0, :, 250:700, :]\n",
    "\n",
    "vmin = np.infty\n",
    "vmax = -1.0*np.infty\n",
    "for i in range(8):\n",
    "    layer = constrained[:, :, i]*np.sign(w[i])\n",
    "    if np.min(layer) < vmin:\n",
    "        vmin = np.min(layer)\n",
    "    if np.max(layer) > vmax:\n",
    "        vmax = np.max(layer)\n",
    "\n",
    "if np.abs(vmin) > vmax:\n",
    "    vmax = -1.0*vmin\n",
    "if np.abs(vmin) < vmax:\n",
    "    vmin = -1.0*vmax\n",
    "        \n",
    "plt.figure(figsize=(15, 7))\n",
    "for i, layer in enumerate([2, 4, 1, 0, 7, 5, 3, 6]):\n",
    "    plt.subplot(2, 4, i + 1)\n",
    "    max_abs = np.max(np.abs(constrained[:, :, layer]))\n",
    "    plt.imshow(-1.0*constrained[:, :, layer]*np.sign(w[layer]),\n",
    "               origin='lower', cmap='RdBu', vmin=-1.0*max_abs, vmax=max_abs)\n",
    "\n",
    "    plt.axis('tight')\n",
    "    plt.axis('off')\n",
    "plt.subplots_adjust(wspace=-8, hspace=-10)\n",
    "plt.tight_layout()\n",
    "plt.savefig(\"../paper-figs/distr_activations.pdf\", format='pdf')"
   ]
  },
  {
   "cell_type": "code",
   "execution_count": null,
   "metadata": {},
   "outputs": [],
   "source": [
    "cmap = 'RdBu'"
   ]
  },
  {
   "cell_type": "code",
   "execution_count": null,
   "metadata": {},
   "outputs": [],
   "source": [
    "# plot filters\n",
    "conv_layer = model.get_layer(name='bendy1')\n",
    "weights = conv_layer.get_weights()\n",
    "weight_array = weights[0]\n",
    "\n",
    "print(weight_array.shape)\n",
    "vmin = weight_array.min()\n",
    "vmax = weight_array.max()\n",
    "print(vmin)\n",
    "print(vmax)\n",
    "for layer in range(weight_array.shape[2]):\n",
    "    plt.figure(figsize=(16, 8))\n",
    "    for i in range(weight_array.shape[3]):\n",
    "        plt.subplot(8, 16, i+1)\n",
    "        plt.imshow(\n",
    "            weight_array[:, :, layer, i], origin='lower',\n",
    "            vmin=vmin, vmax=vmax, cmap=cmap\n",
    "        )\n",
    "        plt.axis('off')\n",
    "    plt.subplots_adjust(wspace=None, hspace=None)\n",
    "    plt.savefig(\n",
    "        '../paper-figs/bendy1_harmonic_{}.pdf'.format(layer),\n",
    "        format='pdf', bbox_inches='tight'\n",
    "    )"
   ]
  },
  {
   "cell_type": "code",
   "execution_count": null,
   "metadata": {},
   "outputs": [],
   "source": [
    "conv_layer = model.get_layer(name='distribute')\n",
    "weights = conv_layer.get_weights()\n",
    "weight_array = weights[0]\n",
    "\n",
    "vmin = weight_array.min()\n",
    "vmax = weight_array.max()\n",
    "\n",
    "layer = 42\n",
    "\n",
    "print(weight_array.shape)\n",
    "# plt.figure(figsize=(8, 4))\n",
    "plt.figure(figsize=(5, 5))\n",
    "for i in range(64):\n",
    "#     plt.subplot(2, 4, i+1)\n",
    "    plt.subplot(8, 8, i+1)\n",
    "    plt.imshow(\n",
    "        weight_array[:, :, i, 2], origin='lower',\n",
    "        vmin=weight_array.min(), vmax=weight_array.max(),\n",
    "        cmap=cmap\n",
    "    )\n",
    "    plt.axis('off')\n",
    "    plt.axis('auto')\n",
    "plt.subplots_adjust(wspace=None, hspace=None)\n",
    "plt.savefig(\n",
    "    '../paper-figs/weights_octave_filt2.pdf',\n",
    "    format='pdf', bbox_inches='tight'\n",
    ")"
   ]
  },
  {
   "cell_type": "code",
   "execution_count": null,
   "metadata": {},
   "outputs": [],
   "source": [
    "# plot filters\n",
    "conv_layer = model.get_layer(name='bendy2')\n",
    "weights = conv_layer.get_weights()\n",
    "weight_array = weights[0]\n",
    "vmin = weight_array.min()\n",
    "vmax = weight_array.max()\n",
    "layer = 0\n",
    "plt.figure(figsize=(5, 5))\n",
    "for i in range(64):\n",
    "    plt.subplot(8, 8, i+1)\n",
    "    plt.imshow(\n",
    "        weight_array[:, :, layer, i], origin='lower',\n",
    "        vmin=vmin, vmax=vmax, cmap=cmap\n",
    "    )\n",
    "    plt.axis('off')\n",
    "    plt.axis('square')\n",
    "plt.subplots_adjust(wspace=None, hspace=None)\n",
    "plt.savefig(\n",
    "    '../paper-figs/bendy2_layer0.pdf',\n",
    "    format='pdf', bbox_inches='tight'\n",
    ")"
   ]
  },
  {
   "cell_type": "code",
   "execution_count": null,
   "metadata": {},
   "outputs": [],
   "source": [
    "# plot filters\n",
    "conv_layer = model.get_layer(name='squishy')\n",
    "weights = conv_layer.get_weights()\n",
    "print(weights)\n",
    "weight_array = weights[0]\n",
    "print(weight_array.shape)\n",
    "# vmin = weight_array.min()\n",
    "# vmax = weight_array.max()\n",
    "# plt.plot(weight_array[0, 0, :, 0], '.')\n",
    "\n",
    "# layer = 0\n",
    "# plt.figure(figsize=(5, 5))\n",
    "# for i in range(64):\n",
    "#     plt.subplot(8, 8, i+1)\n",
    "#     plt.imshow(\n",
    "#         weight_array[:, :, layer, i], origin='lower',\n",
    "#         vmin=vmin, vmax=vmax, cmap=cmap\n",
    "#     )\n",
    "#     plt.axis('off')\n",
    "#     plt.axis('square')\n",
    "# plt.subplots_adjust(wspace=None, hspace=None)\n",
    "# plt.savefig(\n",
    "#     '../paper-figs/bendy2_layer0.pdf',\n",
    "#     format='pdf', bbox_inches='tight'\n",
    "# )"
   ]
  },
  {
   "cell_type": "code",
   "execution_count": null,
   "metadata": {},
   "outputs": [],
   "source": [
    "import numpy as np\n",
    "import mir_eval\n",
    "import seaborn as sns"
   ]
  },
  {
   "cell_type": "code",
   "execution_count": null,
   "metadata": {},
   "outputs": [],
   "source": [
    "cd ../deepsalience/"
   ]
  },
  {
   "cell_type": "code",
   "execution_count": null,
   "metadata": {},
   "outputs": [],
   "source": [
    "import compute_training_data as C"
   ]
  },
  {
   "cell_type": "code",
   "execution_count": null,
   "metadata": {},
   "outputs": [],
   "source": [
    "Y_pred = np.load(\"../comparisons/multif0/experiment11b_output/VS01_Schumann_prediction.npy\")\n",
    "X = np.load(\"../paper-figs/VS01_Schumann_audio_input.npy\")\n",
    "ref_times, ref_freqs = mir_eval.io.load_ragged_time_series(\"../paper-figs/VS01_Schumann.txt\")\n",
    "\n",
    "# Y_pred = np.load(\"../experiment11b_output/CelestialShore_DieForUs_prediction.npy\")\n",
    "# X = np.load(\"../paper-figs/CelestialShore_DieForUs_multif0_MIX_input.npy\")\n",
    "# ref_times, ref_freqs = mir_eval.io.load_ragged_time_series(\"../comparisons/mdb_test/CelestialShore_DieForUs.txt\")\n",
    "\n",
    "# Y_pred = np.load(\"../experiment11b_output/Phoenix_ElzicsFarewell_prediction.npy\")\n",
    "# X = np.load(\"../paper-figs/Phoenix_ElzicsFarewell_multif0_MIX_input.npy\")\n",
    "# ref_times, ref_freqs = mir_eval.io.load_ragged_time_series(\"../comparisons/mdb_test/Phoenix_ElzicsFarewell.txt\")\n",
    "\n",
    "\n",
    "grid_times = C.get_time_grid(Y_pred.shape[1])\n",
    "grid_freqs = C.get_freq_grid()"
   ]
  },
  {
   "cell_type": "code",
   "execution_count": null,
   "metadata": {},
   "outputs": [],
   "source": [
    "plot_times = []\n",
    "plot_freqs = []\n",
    "for t, freqs in zip(ref_times, ref_freqs):\n",
    "    for f in freqs:\n",
    "        plot_times.append(t)\n",
    "        plot_freqs.append(f)"
   ]
  },
  {
   "cell_type": "code",
   "execution_count": null,
   "metadata": {},
   "outputs": [],
   "source": [
    "yticks_idx = [60*k for k in range(6)] + [359]\n",
    "yticks_vals = [int(round(grid_freqs[f])) for f in yticks_idx]\n",
    "\n",
    "sns.set(font_scale=1.4)\n",
    "sns.set_style('white')\n",
    "\n",
    "xlim = [np.argmin(np.abs(grid_times - 10)), np.argmin(np.abs(grid_times - 22))]\n",
    "print(xlim)\n",
    "xlim_gt = [grid_times[xlim[0]], grid_times[xlim[1]]]\n",
    "print(xlim_gt)\n",
    "\n",
    "\n",
    "xticks_idx = np.arange(X[1, : , :].shape[1])[::172]\n",
    "xticks = grid_times[xlim[0]:xlim[1]][::172]\n",
    "xticks = [int(np.round(x)) for x in xticks]\n",
    "\n",
    "plt.figure(figsize=(15, 5))\n",
    "\n",
    "plt.subplot(1,3,1)\n",
    "plt.imshow(X[1, : , xlim[0]:xlim[1]], origin='lower', cmap='RdBu_r', vmin=-1)\n",
    "plt.yticks(yticks_idx, yticks_vals)\n",
    "plt.ylabel(\"Frequency (Hz)\")\n",
    "plt.xlabel(\"Time (sec)\")\n",
    "plt.xticks(xticks_idx, xticks)\n",
    "plt.axis('auto')\n",
    "\n",
    "plt.subplot(1,3,2)\n",
    "plt.imshow((Y_pred[:, xlim[0]:xlim[1]]**0.8), origin='lower', cmap='RdBu_r', vmin=-1)\n",
    "plt.yticks(yticks_idx, yticks_vals)\n",
    "# plt.ylabel(\"Frequency (Hz)\")\n",
    "plt.xticks(xticks_idx, xticks)\n",
    "plt.xlabel(\"Time (sec)\")\n",
    "plt.yticks([])\n",
    "plt.axis('auto')\n",
    "\n",
    "plt.subplot(1,3,3)#, axisbg='k')\n",
    "plt.semilogy(plot_times, plot_freqs, '.', color='#CF6766', basey=2, markersize=4)\n",
    "plt.ylim([np.min(grid_freqs), np.max(grid_freqs)])\n",
    "plt.yticks(yticks_vals, yticks_vals)\n",
    "plt.xlim(xlim_gt)\n",
    "plt.yticks([])\n",
    "plt.xlabel(\"Time (sec)\")\n",
    "\n",
    "plt.tight_layout()\n",
    "plt.savefig(\n",
    "    '../paper-figs/Su_VS01_output_horizontal.pdf',\n",
    "    format='pdf', bbox_inches='tight'\n",
    ")"
   ]
  },
  {
   "cell_type": "code",
   "execution_count": null,
   "metadata": {},
   "outputs": [],
   "source": [
    "import json\n",
    "with open(\"../data_splits.json\", 'r') as fhandle:\n",
    "    dat_dict = json.load(fhandle)"
   ]
  },
  {
   "cell_type": "code",
   "execution_count": null,
   "metadata": {},
   "outputs": [],
   "source": [
    "len(dat_dict['train'])"
   ]
  },
  {
   "cell_type": "code",
   "execution_count": null,
   "metadata": {},
   "outputs": [],
   "source": [
    "len(dat_dict['test'])"
   ]
  },
  {
   "cell_type": "code",
   "execution_count": null,
   "metadata": {},
   "outputs": [],
   "source": [
    "len(dat_dict['validate'])"
   ]
  },
  {
   "cell_type": "code",
   "execution_count": null,
   "metadata": {},
   "outputs": [],
   "source": [
    "import medleydb as mdb\n",
    "tot_duration = 0\n",
    "for trackid in dat_dict['validate']:\n",
    "    mtrack = mdb.MultiTrack(trackid)\n",
    "    if mtrack.duration is not None:\n",
    "        tot_duration += mtrack.duration\n",
    "    else:\n",
    "        print(trackid)"
   ]
  },
  {
   "cell_type": "code",
   "execution_count": null,
   "metadata": {},
   "outputs": [],
   "source": [
    "tot_duration"
   ]
  },
  {
   "cell_type": "code",
   "execution_count": null,
   "metadata": {},
   "outputs": [],
   "source": [
    "mtrack = mdb.MultiTrack(\"MusicDelta_Beatles\")\n",
    "mel2 = mtrack.melody2_annotation"
   ]
  },
  {
   "cell_type": "code",
   "execution_count": null,
   "metadata": {},
   "outputs": [],
   "source": [
    "np.array(mel2).T.shape"
   ]
  },
  {
   "cell_type": "code",
   "execution_count": null,
   "metadata": {},
   "outputs": [],
   "source": [
    "import numpy as np\n",
    "X = np.load(\"../paper-figs/MusicDelta_GriegTrolltog_multif0_complete_input.npy\")\n",
    "Y = np.load(\"../paper-figs/MusicDelta_GriegTrolltog_multif0_complete_output.npy\")"
   ]
  },
  {
   "cell_type": "code",
   "execution_count": null,
   "metadata": {},
   "outputs": [],
   "source": [
    "import matplotlib.pyplot as plt\n",
    "%matplotlib inline"
   ]
  },
  {
   "cell_type": "code",
   "execution_count": null,
   "metadata": {},
   "outputs": [],
   "source": [
    "plt.figure(figsize=(7, 30))\n",
    "for i in range(6):\n",
    "    plt.subplot(7, 1, i + 1)\n",
    "    plt.imshow(X[i, :, 2000:3000], origin='lower', cmap='RdBu_r', vmin=-1)\n",
    "    plt.axis('tight')\n",
    "    plt.axis('off')\n",
    "\n",
    "plt.subplot(7, 1, 7)\n",
    "plt.imshow(Y[:, 2000:3000], origin='lower', cmap='RdBu_r', vmin=-1)\n",
    "plt.axis('tight')\n",
    "plt.axis('off')\n",
    "plt.savefig(\"hcqt_figparts.png\", format='png')"
   ]
  },
  {
   "cell_type": "code",
   "execution_count": null,
   "metadata": {},
   "outputs": [],
   "source": []
  }
 ],
 "metadata": {
  "kernelspec": {
   "display_name": "Python 2",
   "language": "python",
   "name": "python2"
  },
  "language_info": {
   "codemirror_mode": {
    "name": "ipython",
    "version": 2
   },
   "file_extension": ".py",
   "mimetype": "text/x-python",
   "name": "python",
   "nbconvert_exporter": "python",
   "pygments_lexer": "ipython2",
   "version": "2.7.13"
  }
 },
 "nbformat": 4,
 "nbformat_minor": 2
}
