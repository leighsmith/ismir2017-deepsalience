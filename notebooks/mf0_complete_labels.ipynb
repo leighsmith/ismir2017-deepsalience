{
 "cells": [
  {
   "cell_type": "code",
   "execution_count": null,
   "metadata": {},
   "outputs": [],
   "source": [
    "import compute_training_data as C\n",
    "import core\n",
    "import medleydb as mdb\n",
    "from medleydb import download\n",
    "import numpy as np\n",
    "import csv\n",
    "import os\n",
    "import librosa"
   ]
  },
  {
   "cell_type": "code",
   "execution_count": null,
   "metadata": {},
   "outputs": [],
   "source": [
    "sr = 44100\n",
    "hop_length = 256\n",
    "def get_multif0_gt(mtrack):\n",
    "    mtrack = mdb.MultiTrack(track_id)\n",
    "\n",
    "    (annot_times, annot_freqs, _, _) = C.get_all_pitch_annotations(\n",
    "        mtrack, compute_annot_activity=False\n",
    "    )\n",
    "    if annot_times is None:\n",
    "        return None, None\n",
    "\n",
    "    dur = mtrack.duration\n",
    "\n",
    "    n_uniform_times = int(np.ceil(dur*sr/float(hop_length)))\n",
    "\n",
    "    uniform_times = librosa.core.frames_to_time(\n",
    "        range(n_uniform_times), sr=sr, hop_length=hop_length\n",
    "    )\n",
    "\n",
    "    freqs = [[] for i in range(n_uniform_times)]\n",
    "\n",
    "    time_idx = np.round(annot_times * sr / float(hop_length)).astype(int)\n",
    "    time_idx[time_idx >= n_uniform_times] = n_uniform_times - 1\n",
    "    for i, freq in zip(time_idx, annot_freqs):\n",
    "        if freq > 0:\n",
    "            freqs[i].append(freq)\n",
    "    freqs = [np.array(f).astype(float) for f in freqs]\n",
    "\n",
    "    return uniform_times, freqs"
   ]
  },
  {
   "cell_type": "code",
   "execution_count": null,
   "metadata": {},
   "outputs": [],
   "source": [
    "trackid_list = core.track_id_list()\n",
    "\n",
    "for track_id in trackid_list:\n",
    "    mtrack = mdb.MultiTrack(track_id)\n",
    "    print(track_id)\n",
    "    gt_times, gt_freqs = get_multif0_gt(mtrack)\n",
    "    if gt_times is None:\n",
    "        continue\n",
    "\n",
    "    save_path = os.path.join(\n",
    "        \"/Users/rabitt/Desktop/mdb_test_fixed_output/\",\n",
    "        \"{}.txt\".format(track_id)\n",
    "    )\n",
    "\n",
    "    with open(save_path, 'w') as fhandle:\n",
    "        writer = csv.writer(fhandle, delimiter='\\t')\n",
    "        for t, f in zip(gt_times, gt_freqs):\n",
    "            row = [t]\n",
    "            row.extend(f)\n",
    "\n",
    "            writer.writerow(row)\n"
   ]
  },
  {
   "cell_type": "code",
   "execution_count": null,
   "metadata": {},
   "outputs": [],
   "source": [
    "a = [ 0 ]\n",
    "b = [ 1 , 2, 3]\n",
    "\n",
    "a.extend(b)"
   ]
  },
  {
   "cell_type": "code",
   "execution_count": null,
   "metadata": {},
   "outputs": [],
   "source": [
    "a"
   ]
  },
  {
   "cell_type": "code",
   "execution_count": null,
   "metadata": {},
   "outputs": [],
   "source": []
  }
 ],
 "metadata": {
  "kernelspec": {
   "display_name": "Python 2",
   "language": "python",
   "name": "python2"
  },
  "language_info": {
   "codemirror_mode": {
    "name": "ipython",
    "version": 2
   },
   "file_extension": ".py",
   "mimetype": "text/x-python",
   "name": "python",
   "nbconvert_exporter": "python",
   "pygments_lexer": "ipython2",
   "version": "2.7.9"
  }
 },
 "nbformat": 4,
 "nbformat_minor": 2
}
