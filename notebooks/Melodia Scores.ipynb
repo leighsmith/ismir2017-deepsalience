{
 "cells": [
  {
   "cell_type": "code",
   "execution_count": null,
   "metadata": {},
   "outputs": [],
   "source": [
    "import vamp\n",
    "import numpy as np\n",
    "import mir_eval\n",
    "import os\n",
    "import medleydb as mdb\n",
    "import seaborn\n",
    "import glob\n",
    "import json\n",
    "import librosa\n",
    "import pandas as pd\n",
    "import matplotlib.pyplot as plt\n",
    "%matplotlib inline"
   ]
  },
  {
   "cell_type": "code",
   "execution_count": null,
   "metadata": {},
   "outputs": [],
   "source": [
    "with open(\"../data_splits.json\", 'r') as fhandle:\n",
    "    dat_dict = json.load(fhandle)"
   ]
  },
  {
   "cell_type": "code",
   "execution_count": null,
   "metadata": {},
   "outputs": [],
   "source": [
    "def get_melodia_output(audio_fpath, thresh):\n",
    "    y, fs = librosa.load(audio_fpath, sr=None)\n",
    "    output = vamp.collect(\n",
    "        y, fs, 'mtg-melodia:melodia', output='melody',\n",
    "        parameters={'voicing': thresh}\n",
    "    )\n",
    "    hop = float(output['vector'][0])\n",
    "    pitch = np.array(output['vector'][1])\n",
    "    times = np.arange(0, hop*len(pitch), hop)\n",
    "    return times, pitch"
   ]
  },
  {
   "cell_type": "code",
   "execution_count": null,
   "metadata": {},
   "outputs": [],
   "source": [
    "thresh_vals = np.arange(0, 1, 0.1)\n",
    "mel_accuracy = {v: [] for v in thresh_vals}\n",
    "\n",
    "for trackid in dat_dict['validate']:\n",
    "\n",
    "    mtrack = mdb.MultiTrack(trackid)\n",
    "    if mtrack.dataset_version != 'V1':\n",
    "        continue\n",
    "    \n",
    "    print(trackid)\n",
    "    mel2 = mtrack.melody2_annotation\n",
    "    mel2 = np.array(mel2).T\n",
    "    ref_times, ref_freqs = (mel2[0], mel2[1])\n",
    "\n",
    "    for thresh in thresh_vals:\n",
    "        est_times, est_freqs = get_melodia_output(mtrack.mix_path, thresh)\n",
    "        mel_scores = mir_eval.melody.evaluate(ref_times, ref_freqs, est_times, est_freqs)\n",
    "        mel_accuracy[thresh].append(mel_scores['Overall Accuracy'])"
   ]
  },
  {
   "cell_type": "code",
   "execution_count": null,
   "metadata": {},
   "outputs": [],
   "source": [
    "accuracy_vals = [np.mean(mel_accuracy[thresh]) for thresh in thresh_vals]\n",
    "best_thresh_idx = np.argmax(accuracy_vals)\n",
    "best_thresh = thresh_vals[best_thresh_idx]\n",
    "\n",
    "print(\"Best threshold is {} with an OA of {}\".format(\n",
    "    best_thresh, accuracy_vals[best_thresh_idx])\n",
    ")\n",
    "\n",
    "print accuracy_vals"
   ]
  },
  {
   "cell_type": "code",
   "execution_count": null,
   "metadata": {},
   "outputs": [],
   "source": [
    "all_mel_scores = []\n",
    "for trackid in dat_dict['test']:\n",
    "    print(trackid)\n",
    "    mtrack = mdb.MultiTrack(trackid)\n",
    "    \n",
    "    if not os.path.exists(mtrack.melody2_fpath):\n",
    "        print(trackid)\n",
    "        continue\n",
    "    \n",
    "    est_times, est_freqs = get_melodia_output(mtrack.mix_path, best_thresh)\n",
    "\n",
    "    mel2 = mtrack.melody2_annotation\n",
    "    mel2 = np.array(mel2).T\n",
    "    ref_times, ref_freqs = (mel2[0], mel2[1])\n",
    "    \n",
    "    plt.figure(figsize=(15, 7))\n",
    "    plt.title(trackid)\n",
    "    plt.plot(ref_times, ref_freqs, '.k', markersize=8)\n",
    "    plt.plot(est_times, est_freqs, '.r', markersize=3)\n",
    "    plt.show()\n",
    "\n",
    "    mel_scores = mir_eval.melody.evaluate(ref_times, ref_freqs, est_times, est_freqs)\n",
    "    all_mel_scores.append(mel_scores)\n",
    "\n",
    "mel_scores_df_partial = pd.DataFrame(all_mel_scores)\n",
    "mel_scores_df_partial.to_csv(\"Melodia_scores.csv\")"
   ]
  },
  {
   "cell_type": "code",
   "execution_count": null,
   "metadata": {},
   "outputs": [],
   "source": [
    "mel_scores_df_partial.describe()"
   ]
  },
  {
   "cell_type": "code",
   "execution_count": null,
   "metadata": {},
   "outputs": [],
   "source": []
  }
 ],
 "metadata": {
  "kernelspec": {
   "display_name": "Python 2",
   "language": "python",
   "name": "python2"
  },
  "language_info": {
   "codemirror_mode": {
    "name": "ipython",
    "version": 2
   },
   "file_extension": ".py",
   "mimetype": "text/x-python",
   "name": "python",
   "nbconvert_exporter": "python",
   "pygments_lexer": "ipython2",
   "version": "2.7.9"
  }
 },
 "nbformat": 4,
 "nbformat_minor": 2
}
