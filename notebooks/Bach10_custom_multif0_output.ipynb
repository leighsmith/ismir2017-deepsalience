{
 "cells": [
  {
   "cell_type": "markdown",
   "metadata": {},
   "source": [
    "This notebook is for experiments with how far we could push the multif0 results on the bach10 dataset by injecting extra information. We constrained the maximum polyphony to 4 and did a sweep across thresholds"
   ]
  },
  {
   "cell_type": "code",
   "execution_count": null,
   "metadata": {},
   "outputs": [],
   "source": [
    "cd ../deepsalience/"
   ]
  },
  {
   "cell_type": "code",
   "execution_count": null,
   "metadata": {},
   "outputs": [],
   "source": [
    "import compute_training_data as C\n",
    "import evaluate\n",
    "import numpy as np\n",
    "import scipy\n",
    "import os\n",
    "import glob\n",
    "import matplotlib.pyplot as plt\n",
    "import pandas as pd\n",
    "import mir_eval\n",
    "%matplotlib inline"
   ]
  },
  {
   "cell_type": "code",
   "execution_count": null,
   "metadata": {},
   "outputs": [],
   "source": [
    "def pitch_activations_to_mf0_polyphony_constraint(pitch_activation_mat, thresh):\n",
    "    \"\"\"Convert a pitch activation map to multif0 format by thresholding values\n",
    "    at thresh\n",
    "    \"\"\"\n",
    "    freqs = C.get_freq_grid()\n",
    "    times = C.get_time_grid(pitch_activation_mat.shape[1])\n",
    "\n",
    "    peak_thresh_mat = np.zeros(pitch_activation_mat.shape)\n",
    "    peaks = scipy.signal.argrelmax(pitch_activation_mat, axis=0)\n",
    "    peak_thresh_mat[peaks] = pitch_activation_mat[peaks]\n",
    "\n",
    "    idx = np.where(peak_thresh_mat >= thresh)\n",
    "\n",
    "    est_freq_idx = [[] for _ in range(len(times))]\n",
    "    \n",
    "    for f, t in zip(idx[0], idx[1]):\n",
    "        est_freq_idx[t].append(f)\n",
    "    \n",
    "    est_freqs = []\n",
    "    for t, f_list in zip(range(len(times)), est_freq_idx):\n",
    "        if len(f_list) > 0:\n",
    "            amplitudes = [peak_thresh_mat[f, t] for f in f_list]\n",
    "            ordered_idx = np.flip(np.argsort(amplitudes), 0)\n",
    "            est_freqs.append(\n",
    "                np.array([freqs[f_list[i]] for i in ordered_idx[:4]])\n",
    "            )\n",
    "        else:\n",
    "            est_freqs.append(np.array([]))\n",
    "        \n",
    "\n",
    "    return times, est_freqs"
   ]
  },
  {
   "cell_type": "code",
   "execution_count": null,
   "metadata": {},
   "outputs": [],
   "source": [
    "fpaths = glob.glob(\"../comparisons/multif0/datasets/bach10/gt_F0/*_GTF0s.txt\")\n",
    "trackids = ['_'.join(os.path.basename(f).split('_')[:2]) for f in fpaths]\n",
    "\n",
    "thresh_vals = np.arange(0, 1, 0.05)\n",
    "\n",
    "all_scores = {t: [] for t in thresh_vals}\n",
    "for t in thresh_vals:\n",
    "    for trackid in trackids:\n",
    "        cnn_npy = \"../comparisons/multif0/experiment11b_output/{}_prediction.npy\".format(trackid)\n",
    "        gt_output = '../comparisons/multif0/datasets/bach10/gt_F0/{}_GTF0s.txt'.format(trackid)\n",
    "        Y = np.load(cnn_npy)\n",
    "        c_times, c_freqs = pitch_activations_to_mf0_polyphony_constraint(Y, t)\n",
    "        g_times, g_freqs = mir_eval.io.load_ragged_time_series(gt_output)\n",
    "        scores = mir_eval.multipitch.evaluate(g_times, g_freqs, c_times, c_freqs)\n",
    "        all_scores[t].append(scores)\n"
   ]
  },
  {
   "cell_type": "code",
   "execution_count": null,
   "metadata": {},
   "outputs": [],
   "source": [
    "import seaborn as sns\n",
    "\n",
    "\n",
    "acc = [np.mean([s['Accuracy'] for s in all_scores[t]]) for t in thresh_vals]\n",
    "recall = [np.mean([s['Recall'] for s in all_scores[t]]) for t in thresh_vals]\n",
    "precision = [np.mean([s['Precision'] for s in all_scores[t]]) for t in thresh_vals]\n",
    "fmeasure = [2.0*p*r/(p+r) for (r, p) in zip(recall, precision)]\n",
    "\n",
    "plt.figure(figsize=(5, 2))\n",
    "sns.set(font_scale=1.2)\n",
    "sns.set_style('whitegrid')\n",
    "# plt.subplot(121)\n",
    "plt.plot([0.3, 0.3], [0, 0.65], '--', color='grey')\n",
    "plt.plot(thresh_vals, acc, 'o-', color='#CF6766')\n",
    "plt.ylabel(\"Accuracy\")\n",
    "plt.xlabel(\"Threshold\")\n",
    "\n",
    "plt.xlim([0, 1])\n",
    "plt.ylim([0, 0.65])\n",
    "\n",
    "plt.savefig('../paper-figs/bach10_threshsweep.pdf', format='pdf', bbox_inches='tight')\n",
    "\n",
    "# plt.subplot(122)\n",
    "# plt.plot([0.3, 0.3], [0, 1], '--', color='grey')\n",
    "# plt.plot(thresh_vals, fmeasure, '.')\n",
    "# plt.ylabel(\"F1\")\n",
    "# plt.xlabel(\"Threshold\")\n",
    "\n",
    "# plt.subplot(223)\n",
    "# plt.plot([0.3, 0.3], [0, 1], '--', color='grey')\n",
    "# plt.plot(thresh_vals, recall, '.')\n",
    "# plt.ylabel(\"Recall\")\n",
    "# plt.xlabel(\"Threshold\")\n",
    "\n",
    "\n",
    "# plt.subplot(224)\n",
    "# plt.plot([0.3, 0.3], [0, 1], '--', color='grey')\n",
    "# plt.plot(thresh_vals, precision, '.')\n",
    "# plt.ylabel(\"Precision\")\n",
    "# plt.xlabel(\"Threshold\")\n"
   ]
  },
  {
   "cell_type": "code",
   "execution_count": null,
   "metadata": {},
   "outputs": [],
   "source": [
    "score_df = pd.DataFrame(all_scores[0.1])\n",
    "score_df.describe()"
   ]
  },
  {
   "cell_type": "code",
   "execution_count": null,
   "metadata": {},
   "outputs": [],
   "source": []
  }
 ],
 "metadata": {
  "kernelspec": {
   "display_name": "Python 2",
   "language": "python",
   "name": "python2"
  },
  "language_info": {
   "codemirror_mode": {
    "name": "ipython",
    "version": 2
   },
   "file_extension": ".py",
   "mimetype": "text/x-python",
   "name": "python",
   "nbconvert_exporter": "python",
   "pygments_lexer": "ipython2",
   "version": "2.7.13"
  }
 },
 "nbformat": 4,
 "nbformat_minor": 2
}
