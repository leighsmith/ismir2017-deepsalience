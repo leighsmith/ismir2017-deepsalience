{
 "cells": [
  {
   "cell_type": "markdown",
   "metadata": {},
   "source": [
    "Compute the coverage of the contours extracted from the (multif0) CNN.\n",
    "Compute the coverage of th conturs extracted from Melodia.\n",
    "\n",
    "**This didnt end up being used**"
   ]
  },
  {
   "cell_type": "code",
   "execution_count": null,
   "metadata": {},
   "outputs": [],
   "source": [
    "import motif\n",
    "import motif.plot\n",
    "import numpy as np\n",
    "import mir_eval\n",
    "import os\n",
    "import medleydb as mdb\n",
    "import seaborn\n",
    "import glob\n",
    "import json\n",
    "import pandas as pd\n",
    "import matplotlib.pyplot as plt\n",
    "%matplotlib inline"
   ]
  },
  {
   "cell_type": "markdown",
   "metadata": {},
   "source": [
    "### Do peak streaming on the outputs of the CNN (mdb test set)"
   ]
  },
  {
   "cell_type": "code",
   "execution_count": null,
   "metadata": {},
   "outputs": [],
   "source": [
    "etr_cnn = motif.contour_extractors.DeepSal()\n",
    "with open(\"../data_splits.json\", 'r') as fhandle:\n",
    "    dat_dict = json.load(fhandle)\n",
    "\n",
    "all_scores_mel1 = []\n",
    "all_scores_mel2 = []\n",
    "all_scores_mel3 = []\n",
    "trackids = []\n",
    "for track_id in dat_dict['test']:\n",
    "    npy_path = \"../comparisons/multif0/experiment11b_output/fullmix_outputs/{}_prediction.npy\".format(track_id)\n",
    "    mtrack = mdb.MultiTrack(track_id)\n",
    "    if os.path.exists(npy_path):\n",
    "        print(track_id)\n",
    "        trackids.append(track_id)\n",
    "        ctr = etr_cnn.compute_contours(npy_path, mtrack.mix_path)\n",
    "\n",
    "        scores_mel1 = ctr.coverage(mtrack.melody1_fpath, single_f0=True)\n",
    "        scores_mel2 = ctr.coverage(mtrack.melody2_fpath, single_f0=True)\n",
    "        scores_mel3 = ctr.coverage(mtrack.melody3_fpath, single_f0=False)\n",
    "        print(scores_mel3['Recall'])\n",
    "        \n",
    "        all_scores_mel1.append(scores_mel1)\n",
    "        all_scores_mel2.append(scores_mel2)\n",
    "        all_scores_mel3.append(scores_mel3)\n",
    "\n",
    "df_mel1 = pd.DataFrame(all_scores_mel1, index=trackids)\n",
    "df_mel2 = pd.DataFrame(all_scores_mel2, index=trackids)\n",
    "df_mel3 = pd.DataFrame(all_scores_mel3, index=trackids)"
   ]
  },
  {
   "cell_type": "code",
   "execution_count": null,
   "metadata": {},
   "outputs": [],
   "source": [
    "df_mel1.describe()"
   ]
  },
  {
   "cell_type": "code",
   "execution_count": null,
   "metadata": {},
   "outputs": [],
   "source": [
    "df_mel2.describe()"
   ]
  },
  {
   "cell_type": "code",
   "execution_count": null,
   "metadata": {},
   "outputs": [],
   "source": [
    "df_mel3.describe()"
   ]
  },
  {
   "cell_type": "code",
   "execution_count": null,
   "metadata": {},
   "outputs": [],
   "source": [
    "print(df_mel1['Recall'].mean())\n",
    "print(df_mel2['Recall'].mean())\n",
    "print(df_mel3['Recall'].mean())\n",
    "\n",
    "df_mel1.to_csv(\"../outputs/deepsal_mel1_coverage_test.csv\")\n",
    "df_mel2.to_csv(\"../outputs/deepsal_mel2_coverage_test.csv\")\n",
    "df_mel3.to_csv(\"../outputs/deepsal_mel3_coverage_test.csv\")"
   ]
  },
  {
   "cell_type": "code",
   "execution_count": null,
   "metadata": {},
   "outputs": [],
   "source": [
    "df_mel1 = pd.DataFrame.from_csv(\"deepsal_mel3_coverage_test.csv\")\n",
    "df_mel1.describe()"
   ]
  },
  {
   "cell_type": "code",
   "execution_count": null,
   "metadata": {},
   "outputs": [],
   "source": [
    "seaborn.set_style('white')\n",
    "etr_cnn = motif.contour_extractors.DeepSal()\n",
    "track_id = \"MusicDelta_Gospel\"\n",
    "npy_path = \"../experiment11b_output/fullmix_outputs/{}_prediction.npy\".format(track_id)\n",
    "mtrack = mdb.MultiTrack(track_id)\n",
    "ctr = etr_cnn.compute_contours(npy_path, mtrack.mix_path)\n",
    "\n",
    "sal = np.load(npy_path)\n",
    "plt.figure(figsize=(30, 30))\n",
    "plt.subplot(2, 1, 1)\n",
    "motif.plot.plot_with_annotation(ctr, mtrack.melody2_fpath, single_f0=False)\n",
    "plt.subplot(2, 1, 2)\n",
    "plt.imshow(sal, origin='lower', cmap='hot')\n",
    "plt.axis('auto')\n",
    "\n",
    "# plt.savefig('/Users/rabitt/Desktop/swingjazz.pdf', format='pdf')"
   ]
  },
  {
   "cell_type": "markdown",
   "metadata": {},
   "source": [
    "### Compare with Justin's contour tracking"
   ]
  },
  {
   "cell_type": "code",
   "execution_count": null,
   "metadata": {},
   "outputs": [],
   "source": [
    "etr_sal = motif.contour_extractors.Salamon()\n",
    "with open(\"../data_splits.json\", 'r') as fhandle:\n",
    "    dat_dict = json.load(fhandle)\n",
    "\n",
    "all_scores_mel1_sal = []\n",
    "all_scores_mel2_sal = []\n",
    "all_scores_mel3_sal = []\n",
    "trackids = []\n",
    "for track_id in dat_dict['test']:\n",
    "    npy_path = \"../experiment11b_output/fullmix_outputs/{}_prediction.npy\".format(track_id)\n",
    "    mtrack = mdb.MultiTrack(track_id)\n",
    "    if os.path.exists(npy_path):\n",
    "        print(track_id)\n",
    "        trackids.append(track_id)\n",
    "        ctr = etr_cnn.compute_contours(mtrack.mix_path)\n",
    "\n",
    "        scores_mel1 = ctr.coverage(mtrack.melody1_fpath, single_f0=True)\n",
    "        scores_mel2 = ctr.coverage(mtrack.melody2_fpath, single_f0=True)\n",
    "        scores_mel3 = ctr.coverage(mtrack.melody3_fpath, single_f0=False)\n",
    "        print(scores_mel3['Recall'])\n",
    "        \n",
    "        all_scores_mel1_sal.append(scores_mel1)\n",
    "        all_scores_mel2_sal.append(scores_mel2)\n",
    "        all_scores_mel3_sal.append(scores_mel3)\n",
    "\n",
    "df_mel1 = pd.DataFrame(all_scores_mel1_sal, index=trackids)\n",
    "df_mel2 = pd.DataFrame(all_scores_mel2_sal, index=trackids)\n",
    "df_mel3 = pd.DataFrame(all_scores_mel3_sal, index=trackids)"
   ]
  },
  {
   "cell_type": "code",
   "execution_count": null,
   "metadata": {},
   "outputs": [],
   "source": [
    "print(df_mel1['Recall'].mean())\n",
    "print(df_mel2['Recall'].mean())\n",
    "print(df_mel3['Recall'].mean())"
   ]
  },
  {
   "cell_type": "code",
   "execution_count": null,
   "metadata": {},
   "outputs": [],
   "source": [
    "df_mel1.to_csv(\"salamon_mel1_coverage_test.csv\")\n",
    "df_mel2.to_csv(\"salamon_mel2_coverage_test.csv\")\n",
    "df_mel3.to_csv(\"salamon_mel3_coverage_test.csv\")"
   ]
  },
  {
   "cell_type": "code",
   "execution_count": null,
   "metadata": {},
   "outputs": [],
   "source": [
    "df_mel1 = pd.DataFrame.from_csv(\"salamon_mel3_coverage_test.csv\")\n",
    "df_mel1.describe()"
   ]
  }
 ],
 "metadata": {
  "kernelspec": {
   "display_name": "Python 2",
   "language": "python",
   "name": "python2"
  },
  "language_info": {
   "codemirror_mode": {
    "name": "ipython",
    "version": 2
   },
   "file_extension": ".py",
   "mimetype": "text/x-python",
   "name": "python",
   "nbconvert_exporter": "python",
   "pygments_lexer": "ipython2",
   "version": "2.7.13"
  }
 },
 "nbformat": 4,
 "nbformat_minor": 2
}
