{
 "cells": [
  {
   "cell_type": "markdown",
   "metadata": {},
   "source": [
    "**This notebook is important :) **\n",
    "\n",
    "Does a simple argmax over the (Melody2) CNN outputs to produce melody2 estimates.\n",
    "Scores estimates against the ground truth.\n",
    "One of the paper plots is at the bottom of a qualitative example."
   ]
  },
  {
   "cell_type": "code",
   "execution_count": null,
   "metadata": {},
   "outputs": [],
   "source": [
    "import motif\n",
    "import motif.plot\n",
    "import numpy as np\n",
    "import mir_eval\n",
    "import os\n",
    "import medleydb as mdb\n",
    "import seaborn\n",
    "import csv\n",
    "import glob\n",
    "import json\n",
    "import pandas as pd\n",
    "import matplotlib.pyplot as plt\n",
    "%matplotlib inline"
   ]
  },
  {
   "cell_type": "code",
   "execution_count": null,
   "metadata": {},
   "outputs": [],
   "source": [
    "with open(\"../outputs/data_splits.json\", 'r') as fhandle:\n",
    "    dat_dict = json.load(fhandle)"
   ]
  },
  {
   "cell_type": "code",
   "execution_count": null,
   "metadata": {},
   "outputs": [],
   "source": [
    "cd ../deepsalience/"
   ]
  },
  {
   "cell_type": "code",
   "execution_count": null,
   "metadata": {},
   "outputs": [],
   "source": [
    "import compute_training_data as C\n",
    "import evaluate"
   ]
  },
  {
   "cell_type": "code",
   "execution_count": null,
   "metadata": {},
   "outputs": [],
   "source": [
    "thresh_vals = np.arange(0, 1, 0.1)\n",
    "mel_accuracy = {v: [] for v in thresh_vals}\n",
    "\n",
    "for trackid in dat_dict['validate']:\n",
    "\n",
    "    mtrack = mdb.MultiTrack(trackid)\n",
    "    if mtrack.dataset_version != 'V1':\n",
    "        continue\n",
    "    \n",
    "    print(trackid)\n",
    "    pred_path = \"../experiment_output_submission/Model_11b_mel2_outputs/{}_prediction.npy\".format(trackid)\n",
    "    pitch_activations = np.load(pred_path)\n",
    "    mel2 = mtrack.melody2_annotation\n",
    "    mel2 = np.array(mel2).T\n",
    "    ref_times, ref_freqs = (mel2[0], mel2[1])\n",
    "\n",
    "    for thresh in thresh_vals:\n",
    "        est_times, est_freqs = evaluate.pitch_activations_to_singlef0(pitch_activations, thresh)\n",
    "        mel_scores = mir_eval.melody.evaluate(ref_times, ref_freqs, est_times, est_freqs)\n",
    "        mel_accuracy[thresh].append(mel_scores['Overall Accuracy'])"
   ]
  },
  {
   "cell_type": "code",
   "execution_count": null,
   "metadata": {},
   "outputs": [],
   "source": [
    "accuracy_vals = [np.mean(mel_accuracy[thresh]) for thresh in thresh_vals]\n",
    "best_thresh_idx = np.argmax(accuracy_vals)\n",
    "best_thresh = thresh_vals[best_thresh_idx]\n",
    "\n",
    "print(\"Best threshold is {} with an OA of {}\".format(\n",
    "    best_thresh, accuracy_vals[best_thresh_idx])\n",
    ")"
   ]
  },
  {
   "cell_type": "code",
   "execution_count": null,
   "metadata": {},
   "outputs": [],
   "source": [
    "best_thresh = 0.3"
   ]
  },
  {
   "cell_type": "code",
   "execution_count": null,
   "metadata": {},
   "outputs": [],
   "source": [
    "def save_mel_prediction(est_times, est_freqs, fpath):\n",
    "    with open(fpath, 'w') as fhandle:\n",
    "        writer = csv.writer(fhandle, delimiter=',')\n",
    "        for t, f in zip(est_times, est_freqs):\n",
    "            writer.writerow([t, f])\n"
   ]
  },
  {
   "cell_type": "code",
   "execution_count": null,
   "metadata": {},
   "outputs": [],
   "source": [
    "all_mel_scores = []\n",
    "for trackid in dat_dict['test']:\n",
    "    print(trackid)\n",
    "    mtrack = mdb.MultiTrack(trackid)\n",
    "    \n",
    "    pred_path = \"../experiment_output_submission/Model_11b_mel2_outputs/{}_prediction.npy\".format(trackid)\n",
    "    if not os.path.exists(pred_path) or not os.path.exists(mtrack.melody2_fpath):\n",
    "        print(trackid)\n",
    "        continue\n",
    "\n",
    "    pitch_activations = np.load(pred_path)\n",
    "    est_times, est_freqs = evaluate.pitch_activations_to_singlef0(pitch_activations, thresh)\n",
    "    save_mel_prediction(\n",
    "        est_times, est_freqs,\n",
    "        \"../experiment_output_submission/Model_11b_mel2_outputs/{}_mel2_prediction.txt\".format(trackid))\n",
    "    mel2 = mtrack.melody2_annotation\n",
    "    mel2 = np.array(mel2).T\n",
    "    ref_times, ref_freqs = (mel2[0], mel2[1])\n",
    "    \n",
    "    plt.figure(figsize=(15, 7))\n",
    "    plt.title(trackid)\n",
    "    plt.plot(ref_times, ref_freqs, '.k', markersize=8)\n",
    "    plt.plot(est_times, est_freqs, '.r', markersize=3)\n",
    "    plt.show()\n",
    "\n",
    "    mel_scores = mir_eval.melody.evaluate(ref_times, ref_freqs, est_times, est_freqs)\n",
    "    all_mel_scores.append(mel_scores)\n",
    "\n",
    "mel_scores_df_partial = pd.DataFrame(all_mel_scores)"
   ]
  },
  {
   "cell_type": "code",
   "execution_count": null,
   "metadata": {},
   "outputs": [],
   "source": [
    "mel_scores_df_partial.describe()"
   ]
  },
  {
   "cell_type": "code",
   "execution_count": null,
   "metadata": {},
   "outputs": [],
   "source": [
    "mel_scores_df_partial.to_csv(\"../outputs/CNNmel2_argmax_scores.csv\")"
   ]
  },
  {
   "cell_type": "code",
   "execution_count": null,
   "metadata": {},
   "outputs": [],
   "source": [
    "sns.set(font_scale=1.5)\n",
    "sns.set_style('white')\n",
    "\n",
    "trackid = 'MusicDelta_SwingJazz'\n",
    "mtrack = mdb.MultiTrack(trackid)\n",
    "\n",
    "pred_path = \"../experiment_output_submission/Model_11b_mel2_outputs/{}_prediction.npy\".format(trackid)\n",
    "Y = np.load(pred_path)\n",
    "\n",
    "est_times, est_freqs = get_mel_prediction(pred_path, best_thresh)\n",
    "mel2 = mtrack.melody2_annotation\n",
    "mel2 = np.array(mel2).T\n",
    "ref_times, ref_freqs = (mel2[0], mel2[1])\n",
    "\n",
    "est_freqs[est_freqs < 0] == 0\n",
    "\n",
    "plt.figure(figsize=(10, 5))\n",
    "plt.subplot(1, 2, 1)\n",
    "plt.semilogy(ref_times, ref_freqs, '.k', basey=2, markersize=8)\n",
    "plt.semilogy(est_times, est_freqs, '.', color=\"#CF6766\", basey=2, markersize=4)\n",
    "\n",
    "plt.ylim([2**7, 32.7*6])\n",
    "plt.xlim([0, 25])\n",
    "plt.yticks([2**i for i in range(7, 12)], [2**i for i in range(7, 12)])\n",
    "plt.ylabel('Frequency (Hz)')\n",
    "plt.xlabel('Time (sec)')\n",
    "\n",
    "plt.subplot(1, 2, 2)\n",
    "plt.imshow(Y[120:, :2150], origin='lower', cmap='RdBu_r', vmin=-1, vmax=1)\n",
    "plt.yticks([])\n",
    "plt.xticks(np.linspace(0, 2150, 6), [0, 5, 10, 15, 20, 25])\n",
    "plt.xlabel('Time (sec)')\n",
    "plt.axis('auto')\n",
    "\n",
    "plt.tight_layout()\n",
    "plt.savefig('../paper-figs/mel_qualatative.pdf', format='pdf', bbox_inches='tight')"
   ]
  },
  {
   "cell_type": "code",
   "execution_count": null,
   "metadata": {},
   "outputs": [],
   "source": []
  }
 ],
 "metadata": {
  "kernelspec": {
   "display_name": "Python 2",
   "language": "python",
   "name": "python2"
  },
  "language_info": {
   "codemirror_mode": {
    "name": "ipython",
    "version": 2
   },
   "file_extension": ".py",
   "mimetype": "text/x-python",
   "name": "python",
   "nbconvert_exporter": "python",
   "pygments_lexer": "ipython2",
   "version": "2.7.13"
  }
 },
 "nbformat": 4,
 "nbformat_minor": 2
}
