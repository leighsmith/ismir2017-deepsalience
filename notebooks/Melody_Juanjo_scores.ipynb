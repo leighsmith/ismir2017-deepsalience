{
 "cells": [
  {
   "cell_type": "markdown",
   "metadata": {},
   "source": [
    "Score the output of Juanjo's algorithm on the full mixes in the medleydb test set against the melody2 annotations"
   ]
  },
  {
   "cell_type": "code",
   "execution_count": null,
   "metadata": {},
   "outputs": [],
   "source": [
    "import numpy as np\n",
    "import mir_eval\n",
    "import os\n",
    "import medleydb as mdb\n",
    "import seaborn\n",
    "import glob\n",
    "import json\n",
    "import librosa\n",
    "import pandas as pd\n",
    "import matplotlib.pyplot as plt\n",
    "%matplotlib inline"
   ]
  },
  {
   "cell_type": "code",
   "execution_count": null,
   "metadata": {},
   "outputs": [],
   "source": [
    "with open(\"../outputs/data_splits.json\", 'r') as fhandle:\n",
    "    dat_dict = json.load(fhandle)"
   ]
  },
  {
   "cell_type": "code",
   "execution_count": null,
   "metadata": {},
   "outputs": [],
   "source": [
    "all_mel_scores = []\n",
    "for trackid in dat_dict['test']:\n",
    "    print(trackid)\n",
    "    mtrack = mdb.MultiTrack(trackid)\n",
    "    \n",
    "    pred_path = \"../comparisons/melody2/juanjo_mdb_out/{}_mix.pitch\".format(trackid)\n",
    "    if not os.path.exists(pred_path) or not os.path.exists(mtrack.melody2_fpath):\n",
    "        print(trackid)\n",
    "        continue\n",
    "\n",
    "    est_times, est_freqs = mir_eval.io.load_time_series(pred_path)\n",
    "\n",
    "    mel2 = mtrack.melody2_annotation\n",
    "    mel2 = np.array(mel2).T\n",
    "    ref_times, ref_freqs = (mel2[0], mel2[1])\n",
    "    \n",
    "    plt.figure(figsize=(15, 7))\n",
    "    plt.title(trackid)\n",
    "    plt.plot(ref_times, ref_freqs, '.k', markersize=8)\n",
    "    plt.plot(est_times, est_freqs, '.r', markersize=3)\n",
    "    plt.show()\n",
    "\n",
    "    mel_scores = mir_eval.melody.evaluate(ref_times, ref_freqs, est_times, est_freqs)\n",
    "    all_mel_scores.append(mel_scores)\n",
    "\n",
    "mel_scores_df_partial = pd.DataFrame(all_mel_scores)\n",
    "mel_scores_df_partial.to_csv(\"../outputs/juanjo_mdb_scores.csv\")"
   ]
  },
  {
   "cell_type": "code",
   "execution_count": null,
   "metadata": {},
   "outputs": [],
   "source": [
    "mel_scores_df_partial.describe()"
   ]
  },
  {
   "cell_type": "code",
   "execution_count": null,
   "metadata": {},
   "outputs": [],
   "source": [
    "for trackid in dat_dict['test']:\n",
    "    print(trackid)"
   ]
  },
  {
   "cell_type": "code",
   "execution_count": null,
   "metadata": {},
   "outputs": [],
   "source": []
  }
 ],
 "metadata": {
  "kernelspec": {
   "display_name": "Python 2",
   "language": "python",
   "name": "python2"
  },
  "language_info": {
   "codemirror_mode": {
    "name": "ipython",
    "version": 2
   },
   "file_extension": ".py",
   "mimetype": "text/x-python",
   "name": "python",
   "nbconvert_exporter": "python",
   "pygments_lexer": "ipython2",
   "version": "2.7.13"
  }
 },
 "nbformat": 4,
 "nbformat_minor": 2
}
