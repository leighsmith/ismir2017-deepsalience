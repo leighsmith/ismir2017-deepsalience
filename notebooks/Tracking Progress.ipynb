{
 "cells": [
  {
   "cell_type": "code",
   "execution_count": null,
   "metadata": {},
   "outputs": [],
   "source": [
    "import numpy as np\n",
    "import os\n",
    "import librosa\n",
    "from IPython.display import Audio\n",
    "import medleydb as mdb"
   ]
  },
  {
   "cell_type": "code",
   "execution_count": null,
   "metadata": {},
   "outputs": [],
   "source": [
    "import matplotlib.pyplot as plt\n",
    "%matplotlib inline"
   ]
  },
  {
   "cell_type": "code",
   "execution_count": null,
   "metadata": {},
   "outputs": [],
   "source": [
    "data_dir = (\"/scratch/rmb456/multif0_ismir2017/\" +\n",
    "    \"training_data_with_blur/melody1\")\n",
    "\n",
    "trackid = \"BrandonWebster_DontHearAThing\"\n",
    "mtrack = mdb.MultiTrack(trackid)\n",
    "data_in = np.load(\n",
    "    os.path.join(data_dir, 'inputs', \"{}_mel1_input.npy\".format(trackid)),\n",
    "    mmap_mode='r'\n",
    ")\n",
    "data_out = np.load(\n",
    "    os.path.join(data_dir, 'outputs', \"{}_mel1_output.npy\".format(trackid)),\n",
    "    mmap_mode='r'\n",
    ")\n",
    "# audio_path = os.path.join(data_dir, \"{}_multif0_MIX.wav\".format(trackid))"
   ]
  },
  {
   "cell_type": "code",
   "execution_count": null,
   "metadata": {},
   "outputs": [],
   "source": [
    "audio_path"
   ]
  },
  {
   "cell_type": "code",
   "execution_count": null,
   "metadata": {},
   "outputs": [],
   "source": [
    "# y, fs = librosa.load(mtrack.mix_path)\n",
    "y, fs = librosa.load(audio_path)"
   ]
  },
  {
   "cell_type": "code",
   "execution_count": null,
   "metadata": {},
   "outputs": [],
   "source": [
    "Audio(y, rate=fs)"
   ]
  },
  {
   "cell_type": "code",
   "execution_count": null,
   "metadata": {},
   "outputs": [],
   "source": []
  },
  {
   "cell_type": "code",
   "execution_count": null,
   "metadata": {},
   "outputs": [],
   "source": [
    "plt.figure(figsize=(15, 15))\n",
    "plt.subplot(2, 1, 1)\n",
    "plt.imshow(data_in[2, 170:220, 900:1000], origin='lower', interpolation='none')\n",
    "plt.axis('auto')\n",
    "# plt.colorbar()\n",
    "plt.subplot(2, 1, 2)\n",
    "plt.imshow(data_out[170:220, 900:1000], origin='lower', interpolation='none')\n",
    "plt.axis('auto')\n",
    "# plt.colorbar()\n",
    "# plt.savefig(\"input_output_pair.pdf\", ext='pdf')"
   ]
  },
  {
   "cell_type": "code",
   "execution_count": null,
   "metadata": {},
   "outputs": [],
   "source": [
    "import medleydb as mdb\n",
    "import compute_training_data as C\n",
    "import librosa"
   ]
  },
  {
   "cell_type": "code",
   "execution_count": null,
   "metadata": {},
   "outputs": [],
   "source": [
    "mtrack = mdb.MultiTrack(\"MusicDelta_SwingJazz\")"
   ]
  },
  {
   "cell_type": "code",
   "execution_count": null,
   "metadata": {},
   "outputs": [],
   "source": [
    "piano_stem = mtrack.stems[3]"
   ]
  },
  {
   "cell_type": "code",
   "execution_count": null,
   "metadata": {},
   "outputs": [],
   "source": [
    "annot_data = piano_stem.pitch_annotation\n",
    "mtrack_duration = mtrack.duration\n",
    "mtrack_duration"
   ]
  },
  {
   "cell_type": "code",
   "execution_count": null,
   "metadata": {},
   "outputs": [],
   "source": [
    "annot = np.array(annot_data).T\n",
    "times = annot[0]\n",
    "freqs = annot[1]\n",
    "\n",
    "n_time_frames = int(np.ceil(mtrack_duration * float(44100)))\n",
    "time_grid = librosa.core.frames_to_time(\n",
    "    range(n_time_frames), sr=44100, hop_length=1\n",
    ")\n",
    "time_bins = C.grid_to_bins(time_grid, 0.0, time_grid[-1])\n",
    "\n",
    "annot_time_idx = np.digitize(times, time_bins) - 1\n",
    "annot_time_idx = annot_time_idx[annot_time_idx < len(time_grid)]\n",
    "\n",
    "freq_complete = np.zeros(time_grid.shape)\n",
    "freq_complete[annot_time_idx] = freqs\n",
    "\n",
    "annot_activation = np.array(freq_complete > 0, dtype=float)\n"
   ]
  },
  {
   "cell_type": "code",
   "execution_count": null,
   "metadata": {},
   "outputs": [],
   "source": [
    "plt.figure(figsize=(15, 7))\n",
    "plt.plot(time_grid, annot_activation, '.')\n",
    "plt.xlim(4, 6)"
   ]
  },
  {
   "cell_type": "code",
   "execution_count": null,
   "metadata": {},
   "outputs": [],
   "source": [
    "import scipy.signal"
   ]
  },
  {
   "cell_type": "code",
   "execution_count": null,
   "metadata": {},
   "outputs": [],
   "source": [
    "annot_activation"
   ]
  },
  {
   "cell_type": "code",
   "execution_count": null,
   "metadata": {},
   "outputs": [],
   "source": [
    "x = 5"
   ]
  },
  {
   "cell_type": "code",
   "execution_count": null,
   "metadata": {},
   "outputs": [],
   "source": []
  }
 ],
 "metadata": {
  "kernelspec": {
   "display_name": "Python 2",
   "language": "python",
   "name": "python2"
  },
  "language_info": {
   "codemirror_mode": {
    "name": "ipython",
    "version": 2
   },
   "file_extension": ".py",
   "mimetype": "text/x-python",
   "name": "python",
   "nbconvert_exporter": "python",
   "pygments_lexer": "ipython2",
   "version": "2.7.13"
  }
 },
 "nbformat": 4,
 "nbformat_minor": 2
}
