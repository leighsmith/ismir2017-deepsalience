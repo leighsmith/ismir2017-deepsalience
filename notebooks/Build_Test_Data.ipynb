{
 "cells": [
  {
   "cell_type": "markdown",
   "metadata": {},
   "source": [
    "This notebook was used to compute the numpy files for each track in the multif0 test data sets (Bach10, Su, and MDB test)."
   ]
  },
  {
   "cell_type": "code",
   "execution_count": null,
   "metadata": {},
   "outputs": [],
   "source": [
    "cd ../deepsalience/"
   ]
  },
  {
   "cell_type": "code",
   "execution_count": null,
   "metadata": {},
   "outputs": [],
   "source": [
    "import compute_training_data as C\n",
    "import glob\n",
    "import os\n",
    "import numpy as np"
   ]
  },
  {
   "cell_type": "code",
   "execution_count": null,
   "metadata": {},
   "outputs": [],
   "source": [
    "test_path = '/scratch/rmb456/multif0_ismir2017/test_data/'"
   ]
  },
  {
   "cell_type": "code",
   "execution_count": null,
   "metadata": {},
   "outputs": [],
   "source": [
    "ls /scratch/rmb456/multif0_ismir2017/test_data/"
   ]
  },
  {
   "cell_type": "code",
   "execution_count": null,
   "metadata": {},
   "outputs": [],
   "source": [
    "def compute_test_inputs(test_path, test_set):\n",
    "    test_dir = os.path.join(test_path, test_set)\n",
    "    audio_files = glob.glob(os.path.join(test_dir, '*.wav'))\n",
    "    for f in audio_files:\n",
    "        print(f)\n",
    "        hcqt = C.compute_hcqt(f)\n",
    "        prefix = os.path.basename(f).split('.')[0]\n",
    "        save_path = os.path.join(test_dir, \"{}_input.npy\".format(prefix))\n",
    "        np.save(save_path, hcqt.astype(np.float32))\n",
    "        print(\"   > done!\")"
   ]
  },
  {
   "cell_type": "code",
   "execution_count": null,
   "metadata": {},
   "outputs": [],
   "source": [
    "test_set = 'bach10'\n",
    "compute_test_inputs(test_path, test_set)"
   ]
  },
  {
   "cell_type": "code",
   "execution_count": null,
   "metadata": {},
   "outputs": [],
   "source": [
    "test_set = 'su'\n",
    "compute_test_inputs(test_path, test_set)"
   ]
  },
  {
   "cell_type": "code",
   "execution_count": null,
   "metadata": {},
   "outputs": [],
   "source": [
    "test_set = 'mdb_test'\n",
    "compute_test_inputs(test_path, test_set)"
   ]
  },
  {
   "cell_type": "code",
   "execution_count": null,
   "metadata": {},
   "outputs": [],
   "source": []
  }
 ],
 "metadata": {
  "kernelspec": {
   "display_name": "Python 2",
   "language": "python",
   "name": "python2"
  },
  "language_info": {
   "codemirror_mode": {
    "name": "ipython",
    "version": 2
   },
   "file_extension": ".py",
   "mimetype": "text/x-python",
   "name": "python",
   "nbconvert_exporter": "python",
   "pygments_lexer": "ipython2",
   "version": "2.7.13"
  }
 },
 "nbformat": 4,
 "nbformat_minor": 2
}
