{
 "cells": [
  {
   "cell_type": "code",
   "execution_count": null,
   "metadata": {},
   "outputs": [],
   "source": [
    "cd ../deepsalience/"
   ]
  },
  {
   "cell_type": "code",
   "execution_count": null,
   "metadata": {},
   "outputs": [],
   "source": [
    "from tensorflow.python.client import device_lib"
   ]
  },
  {
   "cell_type": "code",
   "execution_count": null,
   "metadata": {},
   "outputs": [],
   "source": [
    "device_lib.list_local_devices()"
   ]
  },
  {
   "cell_type": "code",
   "execution_count": null,
   "metadata": {},
   "outputs": [],
   "source": [
    "%run multif0_exper1.py"
   ]
  },
  {
   "cell_type": "code",
   "execution_count": null,
   "metadata": {},
   "outputs": [],
   "source": [
    "from __future__ import print_function\n",
    "\n",
    "import keras\n",
    "from keras.models import Model\n",
    "from keras.layers import Dense, Input, Reshape, Lambda\n",
    "from keras.layers.convolutional import Conv2D\n",
    "from keras import backend as K\n",
    "\n",
    "from tensorflow.python.client import device_lib\n",
    "device_lib.list_local_devices() \n",
    "\n",
    "import medleydb as mdb\n",
    "import matplotlib.pyplot as plt\n",
    "import numpy as np\n",
    "import os\n",
    "import pandas\n",
    "\n",
    "np.random.seed(1337)  # for reproducibility\n",
    "\n",
    "RANDOM_STATE = 42\n",
    "\n",
    "import core\n",
    "\n",
    "DATA_PATH = \"/scratch/rmb456/multif0_ismir2017/training_data_with_blur/multif0_complete/\"\n",
    "MTRACK_LIST = mdb.TRACK_LIST_V1 + mdb.TRACK_LIST_V2 + mdb.TRACK_LIST_EXTRA #+ mdb.TRACK_LIST_BACH10\n",
    "INPUT_PATCH_SIZE = (360, 50)\n",
    "OUTPUT_PATH_SIZE = (360, 50)\n",
    "\n",
    "SAMPLES_PER_EPOCH = 512\n",
    "NB_EPOCHS = 100\n",
    "NB_VAL_SAMPLES = 512"
   ]
  },
  {
   "cell_type": "code",
   "execution_count": null,
   "metadata": {},
   "outputs": [],
   "source": [
    "SAVE_KEY = \"multif0_exper1\"\n",
    "(SAVE_PATH, MODEL_SAVE_PATH, PLOT_SAVE_PATH,\n",
    " MODEL_SCORES_PATH, SCORES_PATH, SCORE_SUMMARY_PATH\n",
    ") = core.get_paths(\"/scratch/rmb456/multif0_ismir2017/experiment_output\", SAVE_KEY)\n",
    "\n",
    "### DATA SETUP ###\n",
    "dat = core.Data(\n",
    "    MTRACK_LIST, DATA_PATH, input_patch_size=INPUT_PATCH_SIZE,\n",
    "    output_patch_size=OUTPUT_PATH_SIZE, batch_size=10\n",
    ")\n",
    "train_generator = dat.get_train_generator()\n",
    "validation_generator = dat.get_validation_generator()\n",
    "\n",
    "### DEFINE MODEL ###\n",
    "input_shape = (None, None, 6)\n",
    "inputs = Input(shape=input_shape)\n",
    "\n",
    "y1 = Conv2D(64, (5, 5), padding='same', activation='relu', name='bendy1')(inputs)\n",
    "y2 = Conv2D(64, (5, 5), padding='same', activation='relu', name='bendy2')(y1)\n",
    "y3 = Conv2D(64, (3, 3), padding='same', activation='relu', name='smoothy1')(y2)\n",
    "y4 = Conv2D(64, (3, 3), padding='same', activation='relu', name='smoothy2')(y3)\n",
    "y5 = Conv2D(1, (1, 1), padding='same', activation='sigmoid', name='squishy')(y4)\n",
    "predictions = Lambda(lambda x: K.squeeze(x, axis=3))(y5)\n",
    "\n",
    "model = Model(inputs=inputs, outputs=predictions)\n",
    "model.compile(\n",
    "    loss=core.keras_loss(), metrics=core.keras_metrics(), optimizer='adam')\n",
    "\n",
    "print(model.summary(line_length=80))"
   ]
  },
  {
   "cell_type": "code",
   "execution_count": null,
   "metadata": {},
   "outputs": [],
   "source": [
    "print(len(dat.train_set))\n",
    "print(len(dat.validation_set))\n",
    "print(dat.test_set)"
   ]
  },
  {
   "cell_type": "code",
   "execution_count": null,
   "metadata": {},
   "outputs": [],
   "source": [
    "### FIT MODEL ###\n",
    "history = model.fit_generator(\n",
    "    train_generator, SAMPLES_PER_EPOCH, epochs=1, verbose=1,\n",
    "    validation_data=validation_generator, validation_steps=NB_VAL_SAMPLES,\n",
    "    callbacks=[\n",
    "        keras.callbacks.ModelCheckpoint(MODEL_SAVE_PATH, save_best_only=True, verbose=1),\n",
    "        keras.callbacks.ReduceLROnPlateau(patience=5, verbose=1),\n",
    "        keras.callbacks.EarlyStopping(patience=15, verbose=0)\n",
    "    ]\n",
    ")"
   ]
  },
  {
   "cell_type": "code",
   "execution_count": null,
   "metadata": {},
   "outputs": [],
   "source": [
    "### load best weights ###\n",
    "model.load_weights(MODEL_SAVE_PATH)"
   ]
  },
  {
   "cell_type": "code",
   "execution_count": null,
   "metadata": {},
   "outputs": [],
   "source": [
    "### Results plots ###\n",
    "print(\"plotting results...\")\n",
    "core.plot_metrics_epochs(history, PLOT_SAVE_PATH)\n",
    "\n"
   ]
  },
  {
   "cell_type": "code",
   "execution_count": null,
   "metadata": {},
   "outputs": [],
   "source": [
    "### Evaluate ###\n",
    "print(\"getting model metrics...\")\n",
    "core.get_model_metrics(dat, model, MODEL_SCORES_PATH)\n",
    "\n"
   ]
  },
  {
   "cell_type": "code",
   "execution_count": null,
   "metadata": {},
   "outputs": [],
   "source": [
    "reload(core)\n",
    "print(\"getting multif0 metrics...\")\n",
    "core.get_all_multif0_metrics(dat.test_files, model, SAVE_PATH, SCORES_PATH, SCORE_SUMMARY_PATH)\n",
    "\n",
    "print(\"done!\")\n",
    "print(\"Results saved to {}\".format(SAVE_PATH))"
   ]
  },
  {
   "cell_type": "code",
   "execution_count": null,
   "metadata": {},
   "outputs": [],
   "source": []
  }
 ],
 "metadata": {
  "kernelspec": {
   "display_name": "Python 2",
   "language": "python",
   "name": "python2"
  },
  "language_info": {
   "codemirror_mode": {
    "name": "ipython",
    "version": 2
   },
   "file_extension": ".py",
   "mimetype": "text/x-python",
   "name": "python",
   "nbconvert_exporter": "python",
   "pygments_lexer": "ipython2",
   "version": "2.7.13"
  }
 },
 "nbformat": 4,
 "nbformat_minor": 2
}
