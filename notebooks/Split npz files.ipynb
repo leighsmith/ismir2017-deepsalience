{
 "cells": [
  {
   "cell_type": "code",
   "execution_count": null,
   "metadata": {},
   "outputs": [],
   "source": [
    "import numpy as np\n",
    "import os\n",
    "import glob"
   ]
  },
  {
   "cell_type": "code",
   "execution_count": null,
   "metadata": {},
   "outputs": [],
   "source": [
    "cd /scratch/rmb456/multif0_ismir2017/training_data_with_blur/"
   ]
  },
  {
   "cell_type": "code",
   "execution_count": null,
   "metadata": {},
   "outputs": [],
   "source": [
    "ls"
   ]
  },
  {
   "cell_type": "code",
   "execution_count": null,
   "metadata": {},
   "outputs": [],
   "source": [
    "dirname = 'melody1'\n",
    "files = glob.glob(os.path.join(dirname, '*.npz'))\n",
    "\n",
    "for f in files:\n",
    "    data = np.load(f)\n",
    "    \n",
    "    bname = os.path.basename(f).split('.')[0]\n",
    "    print(bname)\n",
    "    input_bname = \"{}_input.npy\".format(bname)\n",
    "    output_bname = \"{}_output.npy\".format(bname)\n",
    "    input_path = os.path.join(dirname, 'inputs', input_bname)\n",
    "    output_path = os.path.join(dirname, 'outputs', output_bname)\n",
    "    \n",
    "    np.save(input_path, data['data_in'])\n",
    "    np.save(output_path, data['data_out'])"
   ]
  },
  {
   "cell_type": "code",
   "execution_count": null,
   "metadata": {},
   "outputs": [],
   "source": [
    "dirname = 'melody2'\n",
    "files = glob.glob(os.path.join(dirname, '*.npz'))\n",
    "\n",
    "for f in files:\n",
    "    data = np.load(f)\n",
    "    \n",
    "    bname = os.path.basename(f).split('.')[0]\n",
    "    print(bname)\n",
    "    input_bname = \"{}_input.npy\".format(bname)\n",
    "    output_bname = \"{}_output.npy\".format(bname)\n",
    "    input_path = os.path.join(dirname, 'inputs', input_bname)\n",
    "    output_path = os.path.join(dirname, 'outputs', output_bname)\n",
    "    \n",
    "    np.save(input_path, data['data_in'])\n",
    "    np.save(output_path, data['data_out'])"
   ]
  },
  {
   "cell_type": "code",
   "execution_count": null,
   "metadata": {},
   "outputs": [],
   "source": [
    "dirname = 'melody3'\n",
    "files = glob.glob(os.path.join(dirname, '*.npz'))\n",
    "\n",
    "for f in files:\n",
    "    data = np.load(f)\n",
    "    \n",
    "    bname = os.path.basename(f).split('.')[0]\n",
    "    print(bname)\n",
    "    input_bname = \"{}_input.npy\".format(bname)\n",
    "    output_bname = \"{}_output.npy\".format(bname)\n",
    "    input_path = os.path.join(dirname, 'inputs', input_bname)\n",
    "    output_path = os.path.join(dirname, 'outputs', output_bname)\n",
    "    \n",
    "    np.save(input_path, data['data_in'])\n",
    "    np.save(output_path, data['data_out'])"
   ]
  },
  {
   "cell_type": "code",
   "execution_count": null,
   "metadata": {},
   "outputs": [],
   "source": [
    "dirname = 'multif0_complete'\n",
    "files = glob.glob(os.path.join(dirname, '*.npz'))\n",
    "\n",
    "for f in files:\n",
    "    \n",
    "    bname = os.path.basename(f).split('.')[0]\n",
    "    print(bname)\n",
    "    input_bname = \"{}_input.npy\".format(bname)\n",
    "    output_bname = \"{}_output.npy\".format(bname)\n",
    "    input_path = os.path.join(dirname, 'inputs', input_bname)\n",
    "    output_path = os.path.join(dirname, 'outputs', output_bname)\n",
    "    \n",
    "    if os.path.exists(input_path) and os.path.exists(output_path):\n",
    "        print(\"    > Already done!\")\n",
    "        continue\n",
    "    \n",
    "    try:\n",
    "        data = np.load(f)\n",
    "        np.save(input_path, data['data_in'])\n",
    "        np.save(output_path, data['data_out'])\n",
    "    except:\n",
    "        print(\"failed on {}\".format(f))\n",
    "        os.remove(f)"
   ]
  },
  {
   "cell_type": "code",
   "execution_count": null,
   "metadata": {},
   "outputs": [],
   "source": [
    "dirname = 'multif0_incomplete'\n",
    "files = glob.glob(os.path.join(dirname, '*.npz'))\n",
    "\n",
    "for f in files:\n",
    "    \n",
    "    bname = os.path.basename(f).split('.')[0]\n",
    "    print(bname)\n",
    "    input_bname = \"{}_input.npy\".format(bname)\n",
    "    output_bname = \"{}_output.npy\".format(bname)\n",
    "    input_path = os.path.join(dirname, 'inputs', input_bname)\n",
    "    output_path = os.path.join(dirname, 'outputs', output_bname)\n",
    "    \n",
    "    if os.path.exists(input_path) and os.path.exists(output_path):\n",
    "        print(\"    > Already done!\")\n",
    "        continue\n",
    "    \n",
    "    try:\n",
    "        data = np.load(f)\n",
    "        np.save(input_path, data['data_in'])\n",
    "        np.save(output_path, data['data_out'])\n",
    "    except:\n",
    "        print(\"failed on {}\".format(f))\n",
    "        os.remove(f)"
   ]
  },
  {
   "cell_type": "code",
   "execution_count": null,
   "metadata": {},
   "outputs": [],
   "source": [
    "files = glob.glob(os.path.join(dirname, '*.npz'))"
   ]
  },
  {
   "cell_type": "code",
   "execution_count": null,
   "metadata": {},
   "outputs": [],
   "source": [
    "f = files[0]\n",
    "dat = np.load(f)"
   ]
  },
  {
   "cell_type": "code",
   "execution_count": null,
   "metadata": {},
   "outputs": [],
   "source": [
    "x = dat['data_in']"
   ]
  },
  {
   "cell_type": "code",
   "execution_count": null,
   "metadata": {},
   "outputs": [],
   "source": [
    "x.shape"
   ]
  },
  {
   "cell_type": "code",
   "execution_count": null,
   "metadata": {},
   "outputs": [],
   "source": [
    "f"
   ]
  },
  {
   "cell_type": "code",
   "execution_count": null,
   "metadata": {},
   "outputs": [],
   "source": []
  }
 ],
 "metadata": {
  "kernelspec": {
   "display_name": "Python 2",
   "language": "python",
   "name": "python2"
  },
  "language_info": {
   "codemirror_mode": {
    "name": "ipython",
    "version": 2
   },
   "file_extension": ".py",
   "mimetype": "text/x-python",
   "name": "python",
   "nbconvert_exporter": "python",
   "pygments_lexer": "ipython2",
   "version": "2.7.13"
  }
 },
 "nbformat": 4,
 "nbformat_minor": 2
}
