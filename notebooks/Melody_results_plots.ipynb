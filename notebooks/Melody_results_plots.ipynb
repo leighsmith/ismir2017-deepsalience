{
 "cells": [
  {
   "cell_type": "markdown",
   "metadata": {},
   "source": [
    "Paper plots comparing the performance of the CNN vs. Melodia and Juanjo's melody systems on Melody2.\n",
    "A clown mock of the pointwise track differences in performance at the bottom."
   ]
  },
  {
   "cell_type": "code",
   "execution_count": null,
   "metadata": {},
   "outputs": [],
   "source": [
    "import pandas as pd\n",
    "import matplotlib.pyplot as plt\n",
    "import seaborn as sns\n",
    "import numpy as np\n",
    "sns.set()\n",
    "%matplotlib inline"
   ]
  },
  {
   "cell_type": "code",
   "execution_count": null,
   "metadata": {},
   "outputs": [],
   "source": [
    "def get_dfbox(metrics):\n",
    "    df_melodia = pd.DataFrame.from_csv(\"../outputs/Melodia_scores.csv\")\n",
    "    df_bosch = pd.DataFrame.from_csv(\"../outputs/juanjo_mdb_scores.csv\")\n",
    "    df_cnn = pd.DataFrame.from_csv(\"../outputs/CNNmel2_argmax_scores.csv\")\n",
    "    \n",
    "    boxdata = []\n",
    "    for metric in metrics:\n",
    "        boxdata.extend([\n",
    "            df_melodia[metric],\n",
    "            df_bosch[metric],\n",
    "            df_cnn[metric]\n",
    "        ])\n",
    "\n",
    "    dfbox = pd.DataFrame(np.array(boxdata).T)\n",
    "    return dfbox"
   ]
  },
  {
   "cell_type": "code",
   "execution_count": null,
   "metadata": {},
   "outputs": [],
   "source": [
    "fig = plt.figure(figsize=(7, 5))\n",
    "sns.set(font_scale=1.2)\n",
    "sns.set_style('whitegrid')\n",
    "metrics = ['Voicing False Alarm', 'Voicing Recall', 'Raw Chroma Accuracy', 'Raw Pitch Accuracy', 'Overall Accuracy']\n",
    "data_df = get_dfbox(metrics)\n",
    "\n",
    "n_algs = 3\n",
    "n_metrics = len(metrics)\n",
    "positions = []\n",
    "k = 1\n",
    "for i in range(n_metrics):\n",
    "    for j in range(n_algs):\n",
    "        positions.append(k)\n",
    "        k = k + 1\n",
    "    k = k + 1\n",
    "\n",
    "current_palette = [\"#E1D89F\", \"#8EA8BD\", \"#CF6766\"]\n",
    "colors = current_palette*n_metrics\n",
    "\n",
    "box = plt.boxplot(\n",
    "    data_df.values, widths=0.8, positions=positions,\n",
    "    patch_artist=True, showmeans=True,\n",
    "    medianprops={'color': 'k'},\n",
    "    meanprops=dict(marker='D', markeredgecolor='black',\n",
    "        markerfacecolor='k'),\n",
    "    vert=False\n",
    ")\n",
    "for patch, color in zip(box['boxes'], colors):\n",
    "    patch.set_facecolor(color)\n",
    "\n",
    "show_yaxis = True\n",
    "xlim = [0, 1]\n",
    "legend_loc = 2\n",
    "\n",
    "plt.xlabel('Score')\n",
    "if show_yaxis:\n",
    "    plt.yticks(np.arange(2, 4*(n_metrics + 1) - 2, 4), metrics, rotation='horizontal', weight='bold')\n",
    "else:\n",
    "    plt.yticks(np.arange(2, 4*(n_metrics + 1) - 2, 4), ['']*len(metrics), rotation='horizontal')\n",
    "\n",
    "plt.plot([0, 1], [4, 4], '--', color='k')\n",
    "    \n",
    "if xlim is not None:\n",
    "    plt.xlim(xlim)\n",
    "\n",
    "if legend_loc is not None:\n",
    "    # draw temporary red and blue lines and use them to create a legend\n",
    "    h_benetos, = plt.plot([1,1],'s',color=colors[0], markersize=10)\n",
    "    h_duan, = plt.plot([1,1],'s',color=colors[1], markersize=10)\n",
    "    h_cnn, = plt.plot([1,1],'s',color=colors[2], markersize=10)\n",
    "    lgd = plt.legend((h_cnn, h_duan, h_benetos),('CNN', 'Bosch', 'Salamon'), ncol=1, loc=legend_loc)\n",
    "\n",
    "    h_benetos.set_visible(False)\n",
    "    h_duan.set_visible(False)\n",
    "    h_cnn.set_visible(False)\n",
    "\n",
    "plt.tight_layout()\n",
    "plt.savefig(\"../paper-figs/all_melody_scores.pdf\", format='pdf', bbox_inches='tight')"
   ]
  },
  {
   "cell_type": "code",
   "execution_count": null,
   "metadata": {},
   "outputs": [],
   "source": [
    "df_melodia = pd.DataFrame.from_csv(\"../outputs/Melodia_scores.csv\")\n",
    "df_bosch = pd.DataFrame.from_csv(\"../outputs/juanjo_mdb_scores.csv\")\n",
    "df_cnn = pd.DataFrame.from_csv(\"../outputs/CNNmel2_argmax_scores.csv\")\n",
    "\n",
    "metric = 'Overall Accuracy'\n",
    "cnn_accuracy = df_cnn[metric]\n",
    "bosch_accuracy = df_bosch[metric]\n",
    "salamon_accuracy = df_melodia[metric]"
   ]
  },
  {
   "cell_type": "code",
   "execution_count": null,
   "metadata": {},
   "outputs": [],
   "source": [
    "tracks = [\n",
    "    'AClassicEducation_NightOwl',\n",
    "    'Auctioneer_OurFutureFaces',\n",
    "    'CelestialShore_DieForUs',\n",
    "    'ChrisJacoby_BoothShotLincoln',\n",
    "    'ChrisJacoby_PigsFoot',\n",
    "    'Creepoid_OldTree',\n",
    "    'Debussy_LenfantProdigue',\n",
    "    'MatthewEntwistle_DontYouEver',\n",
    "    'MatthewEntwistle_FairerHopes',\n",
    "    'MatthewEntwistle_ImpressionsOfSaturn',\n",
    "    'MatthewEntwistle_Lontano',\n",
    "    'MatthewEntwistle_TheArch',\n",
    "    'MatthewEntwistle_TheFlaxenField',\n",
    "    'Mozart_DiesBildnis',\n",
    "    'MusicDelta_FusionJazz',\n",
    "    'MusicDelta_Gospel',\n",
    "    'MusicDelta_Pachelbel',\n",
    "    'MusicDelta_SwingJazz',\n",
    "    'Phoenix_BrokenPledgeChicagoReel',\n",
    "    'Phoenix_ColliersDaughter',\n",
    "    'Phoenix_ElzicsFarewell',\n",
    "    'Phoenix_LarkOnTheStrandDrummondCastle',\n",
    "    'Phoenix_ScotchMorris',\n",
    "    'Phoenix_SeanCaughlinsTheScartaglen',\n",
    "    'PortStWillow_StayEven',\n",
    "    'Schubert_Erstarrung',\n",
    "    'StrandOfOaks_Spacestation'\n",
    "]"
   ]
  },
  {
   "cell_type": "code",
   "execution_count": null,
   "metadata": {},
   "outputs": [],
   "source": [
    "plt.figure(figsize=(15, 7))\n",
    "sns.set_style('white')\n",
    "plt.plot(cnn_accuracy, 'or')\n",
    "plt.plot(bosch_accuracy, 'ob')\n",
    "plt.plot(salamon_accuracy, 'oy')\n",
    "plt.xticks(range(len(tracks)), tracks, rotation='vertical')"
   ]
  },
  {
   "cell_type": "code",
   "execution_count": null,
   "metadata": {},
   "outputs": [],
   "source": [
    "plt.figure(figsize=(15, 7))\n",
    "sns.set_style('whitegrid')\n",
    "plt.bar(range(len(cnn_accuracy)), cnn_accuracy - np.max([bosch_accuracy, salamon_accuracy], axis=0))\n",
    "# plt.plot(bosch_accuracy, 'ob')\n",
    "# plt.plot(salamon_accuracy, 'oy')\n",
    "plt.xticks(range(len(tracks)), tracks, rotation='vertical')"
   ]
  },
  {
   "cell_type": "code",
   "execution_count": null,
   "metadata": {},
   "outputs": [],
   "source": [
    "df_melodia.describe()"
   ]
  },
  {
   "cell_type": "code",
   "execution_count": null,
   "metadata": {},
   "outputs": [],
   "source": [
    "df_bosch.describe()"
   ]
  },
  {
   "cell_type": "code",
   "execution_count": null,
   "metadata": {},
   "outputs": [],
   "source": [
    "df_cnn.describe()"
   ]
  },
  {
   "cell_type": "code",
   "execution_count": null,
   "metadata": {},
   "outputs": [],
   "source": []
  }
 ],
 "metadata": {
  "kernelspec": {
   "display_name": "Python 2",
   "language": "python",
   "name": "python2"
  },
  "language_info": {
   "codemirror_mode": {
    "name": "ipython",
    "version": 2
   },
   "file_extension": ".py",
   "mimetype": "text/x-python",
   "name": "python",
   "nbconvert_exporter": "python",
   "pygments_lexer": "ipython2",
   "version": "2.7.13"
  }
 },
 "nbformat": 4,
 "nbformat_minor": 2
}
