{
 "cells": [
  {
   "cell_type": "markdown",
   "metadata": {},
   "source": [
    "This notebook computes outputs of a few different models in a hacky adhoc way. It loads a model (specified in the imports) and its weights from a specific pickle file path.\n",
    "The data path determines which input npy files are used.\n",
    "I ran this to quickly generate (and evaluate) outputs of the models trained for different melody definitions."
   ]
  },
  {
   "cell_type": "code",
   "execution_count": null,
   "metadata": {},
   "outputs": [],
   "source": [
    "cd ../deepsalience/"
   ]
  },
  {
   "cell_type": "code",
   "execution_count": null,
   "metadata": {},
   "outputs": [],
   "source": [
    "# from multif0_exper11_batchin import model_def\n",
    "from multif0_exper11_batchin_mel2 import model_def\n",
    "import core\n",
    "import medleydb as mdb\n",
    "import evaluate\n",
    "import glob\n",
    "import os\n",
    "import numpy as np\n",
    "import matplotlib.pyplot as plt"
   ]
  },
  {
   "cell_type": "code",
   "execution_count": null,
   "metadata": {},
   "outputs": [],
   "source": [
    "# pkl_path = \"../experiment_output/multif0_exper11_batchin/multif0_exper11_batchin.pkl\"\n",
    "# pkl_path = \"../experiment_output/multif0_exper11_batchin_mel3/multif0_exper11_batchin_mel3.pkl\"\n",
    "# pkl_path = \"../experiment_output/multif0_exper11_batchin_mf0incomplete/multif0_exper11_batchin_mf0incomplete.pkl\"\n",
    "pkl_path = \"../experiment_output/multif0_exper11_batchin_mel2/multif0_exper11_batchin_mel2.pkl\"\n"
   ]
  },
  {
   "cell_type": "code",
   "execution_count": null,
   "metadata": {},
   "outputs": [],
   "source": [
    "model = model_def()\n",
    "model.load_weights(pkl_path)"
   ]
  },
  {
   "cell_type": "code",
   "execution_count": null,
   "metadata": {},
   "outputs": [],
   "source": [
    "model.summary()"
   ]
  },
  {
   "cell_type": "code",
   "execution_count": null,
   "metadata": {},
   "outputs": [],
   "source": [
    "# mf0_incomplete_path = core.data_path_multif0_incomplete()\n",
    "# mf0_mel3_path = core.data_path_melody3()\n",
    "mf0_mel2_path = core.data_path_melody2()\n",
    "output_path = \"../experiment_output_submission/Model_11b_mel2_outputs/\"\n",
    "mtracks = list(mdb.load_all_multitracks(dataset_version=['V1']))"
   ]
  },
  {
   "cell_type": "code",
   "execution_count": null,
   "metadata": {},
   "outputs": [],
   "source": [
    "for mtrack in mtracks:\n",
    "    if mtrack.melody1_annotation is not None:\n",
    "        print(mtrack.track_id)\n",
    "        # get input numpy file\n",
    "        input_npy = glob.glob(\n",
    "            os.path.join(mf0_mel2_path, 'inputs', '{}*.npy'.format(mtrack.track_id))\n",
    "        )[0]\n",
    "        \n",
    "        # get predicted output\n",
    "        print(\"    Getting prediction...\")\n",
    "        predicted_output, input_hcqt = evaluate.get_single_test_prediction(model npy_file=input_npy)\n",
    "        \n",
    "        # save output numpy\n",
    "        print(\"    Saving prediction...\")\n",
    "        np.save(\n",
    "            os.path.join(output_path, '{}_prediction.npy'.format(mtrack.track_id)),\n",
    "            predicted_output.astype(np.float32)\n",
    "        )\n",
    "        \n",
    "        print(\"    Plotting output...\")\n",
    "        plt.figure(figsize=(15, 15))\n",
    "\n",
    "        plt.subplot(2, 1, 1)\n",
    "        plt.imshow(input_hcqt[0, :, :, 1], origin='lower')\n",
    "        plt.axis('auto')\n",
    "        plt.colorbar()\n",
    "\n",
    "        plt.subplot(2, 1, 2)\n",
    "        plt.imshow(predicted_output, origin='lower')\n",
    "        plt.axis('auto')\n",
    "        plt.colorbar()\n",
    "\n",
    "        plot_save_path = os.path.join(output_path, '{}_plot.pdf'.format(mtrack.track_id))\n",
    "        plt.savefig(plot_save_path, format='pdf')\n",
    "        plt.close()\n",
    "    else:\n",
    "        print(\"    > {} does not have melody\".format(mtrack.track_id))"
   ]
  },
  {
   "cell_type": "code",
   "execution_count": null,
   "metadata": {},
   "outputs": [],
   "source": [
    "ls /scratch/rmb456/multif0_ismir2017/training_data_with_blur/multif0_incomplete/inputs/"
   ]
  }
 ],
 "metadata": {
  "kernelspec": {
   "display_name": "Python 2",
   "language": "python",
   "name": "python2"
  },
  "language_info": {
   "codemirror_mode": {
    "name": "ipython",
    "version": 2
   },
   "file_extension": ".py",
   "mimetype": "text/x-python",
   "name": "python",
   "nbconvert_exporter": "python",
   "pygments_lexer": "ipython2",
   "version": "2.7.13"
  }
 },
 "nbformat": 4,
 "nbformat_minor": 2
}
