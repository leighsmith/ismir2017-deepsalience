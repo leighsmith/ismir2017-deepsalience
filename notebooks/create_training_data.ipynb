{
 "cells": [
  {
   "cell_type": "code",
   "execution_count": null,
   "metadata": {},
   "outputs": [],
   "source": [
    "import numpy as np\n",
    "import medleydb as mdb\n",
    "from medleydb import download\n",
    "import librosa\n",
    "import os\n",
    "import matplotlib.pyplot as plt\n",
    "%matplotlib inline"
   ]
  },
  {
   "cell_type": "code",
   "execution_count": null,
   "metadata": {},
   "outputs": [],
   "source": [
    "def get_hcqt_params():\n",
    "    bins_per_octave=120\n",
    "    n_octaves = 5\n",
    "    harmonics = [1, 2, 3, 4, 5, 6]\n",
    "    sr = 22050\n",
    "    fmin = 32.7\n",
    "    hop_length = 128\n",
    "    return bins_per_octave, n_octaves, harmonics, sr, fmin, hop_length"
   ]
  },
  {
   "cell_type": "code",
   "execution_count": null,
   "metadata": {},
   "outputs": [],
   "source": [
    "def compute_hcqt(audio_fpath):\n",
    "    bins_per_octave, n_octaves, harmonics, sr, f_min, hop_length = get_hcqt_params()\n",
    "    y, fs = librosa.load(audio_fpath, sr=sr)\n",
    "\n",
    "    cqt_list = []\n",
    "    shapes = []\n",
    "    for h in harmonics:\n",
    "        cqt = librosa.cqt(\n",
    "            y, sr=fs, hop_length=hop_length, fmin=f_min*float(h),\n",
    "            n_bins=bins_per_octave*n_octaves,\n",
    "            bins_per_octave=bins_per_octave\n",
    "        )\n",
    "        cqt_list.append(cqt)\n",
    "        shapes.append(cqt.shape)\n",
    "    \n",
    "    shapes_equal = [s == shapes[0] for s in shapes]\n",
    "    if not all(shapes_equal):\n",
    "        min_time = np.min([s[1] for s in shapes])\n",
    "        new_cqt_list = []\n",
    "        for i, cqt in enumerate(cqt_list):\n",
    "            new_cqt_list.append(cqt[:, :min_time])\n",
    "            cqt_list.pop(i)\n",
    "        cqt_list = new_cqt_list\n",
    "\n",
    "    log_hcqt = 20.0*np.log10(np.abs(np.array(cqt_list)) + 0.0001)\n",
    "    log_hcqt = log_hcqt - np.min(log_hcqt)\n",
    "    log_hcqt = log_hcqt / np.max(log_hcqt)\n",
    "    return log_hcqt"
   ]
  },
  {
   "cell_type": "code",
   "execution_count": null,
   "metadata": {},
   "outputs": [],
   "source": [
    "def get_freq_grid():\n",
    "    bins_per_octave, n_octaves, harmonics, sr, f_min, hop_length = get_hcqt_params()\n",
    "    freq_grid = librosa.cqt_frequencies(\n",
    "        bins_per_octave*n_octaves, f_min, bins_per_octave=bins_per_octave\n",
    "    )\n",
    "    return freq_grid\n",
    "\n",
    "def get_time_grid(n_time_frames):\n",
    "    bins_per_octave, n_octaves, harmonics, sr, f_min, hop_length = get_hcqt_params()\n",
    "    time_grid = librosa.core.frames_to_time(\n",
    "        range(n_time_frames), sr=sr, hop_length=hop_length)\n",
    "    return time_grid"
   ]
  },
  {
   "cell_type": "code",
   "execution_count": null,
   "metadata": {},
   "outputs": [],
   "source": [
    "def grid_to_bins(grid, start_bin_val, end_bin_val):\n",
    "    bin_centers = (grid[1:] + grid[:-1])/2.0\n",
    "    bins = np.concatenate([[start_bin_val], bin_centers, [end_bin_val]])\n",
    "    return bins"
   ]
  },
  {
   "cell_type": "code",
   "execution_count": null,
   "metadata": {},
   "outputs": [],
   "source": [
    "def create_annotation_target(freq_grid, time_grid, annotation_times, annotation_freqs):\n",
    "\n",
    "    time_bins = grid_to_bins(time_grid, 0.0, time_grid[-1])\n",
    "    freq_bins = grid_to_bins(freq_grid, 0.0, freq_grid[-1])\n",
    "\n",
    "    annot_time_idx = np.digitize(annotation_times, time_bins) - 1\n",
    "    annot_freq_idx = np.digitize(annotation_freqs, freq_bins) - 1\n",
    "\n",
    "    annotation_target = np.zeros((len(freq_grid), len(time_grid)))\n",
    "    annotation_target[annot_freq_idx, annot_time_idx] = 1\n",
    "\n",
    "    return annotation_target"
   ]
  },
  {
   "cell_type": "code",
   "execution_count": null,
   "metadata": {},
   "outputs": [],
   "source": [
    "def get_all_pitch_annotations(mtrack):\n",
    "    annot_times = []\n",
    "    annot_freqs = []\n",
    "    for stem in mtrack.stems.values():\n",
    "        data = stem.pitch_annotation\n",
    "        data2 = stem.pitch_estimate_pyin\n",
    "        if data is not None:\n",
    "            annot = data\n",
    "        elif data2 is not None:\n",
    "            annot = data2\n",
    "        else:\n",
    "            continue\n",
    "\n",
    "        annot = np.array(annot).T\n",
    "        annot_times.append(annot[0])\n",
    "        annot_freqs.append(annot[1])\n",
    "\n",
    "    annot_times = np.concatenate(annot_times)\n",
    "    annot_freqs = np.concatenate(annot_freqs)\n",
    "\n",
    "    return annot_times, annot_freqs"
   ]
  },
  {
   "cell_type": "code",
   "execution_count": null,
   "metadata": {},
   "outputs": [],
   "source": [
    "def plot_annot_target(annot_target, hcqt, annot_times, annot_freqs):\n",
    "    plt.figure(figsize=(15,30))\n",
    "    \n",
    "    plt.subplot(3, 1, 1)\n",
    "    plt.imshow(hcqt, origin='lower')\n",
    "    plt.axis('auto')\n",
    "    plt.axis('tight')\n",
    "    \n",
    "    plt.subplot(3, 1, 2)\n",
    "    plt.imshow(annot_target, origin='lower')\n",
    "    plt.axis('auto')\n",
    "    plt.axis('tight')\n",
    "\n",
    "    plt.subplot(3, 1, 3)\n",
    "    plt.plot(annot_times, annot_freqs, ',')\n",
    "    plt.axis('tight')\n",
    "\n",
    "    plt.show()"
   ]
  },
  {
   "cell_type": "code",
   "execution_count": null,
   "metadata": {},
   "outputs": [],
   "source": [
    "def get_input_output_pairs(mtrack):\n",
    "    hcqt = compute_hcqt(mtrack.mix_path)\n",
    "\n",
    "    freq_grid = get_freq_grid()\n",
    "    time_grid = get_time_grid(len(hcqt[0][0]))\n",
    "\n",
    "    annot_times, annot_freqs = get_all_pitch_annotations(mtrack)\n",
    "\n",
    "    annot_target = create_annotation_target(\n",
    "        freq_grid, time_grid, annot_times, annot_freqs\n",
    "    )\n",
    "    plot_annot_target(annot_target, hcqt[0], annot_times, annot_freqs)\n",
    "    return hcqt, annot_target"
   ]
  },
  {
   "cell_type": "code",
   "execution_count": null,
   "metadata": {},
   "outputs": [],
   "source": [
    "def get_input_output_pairs_solo_pitch(audio_path, annot_times, annot_freqs, plot=False):\n",
    "    hcqt = compute_hcqt(audio_path)\n",
    "\n",
    "    freq_grid = get_freq_grid()\n",
    "    time_grid = get_time_grid(len(hcqt[0][0]))\n",
    "    annot_target = create_annotation_target(\n",
    "        freq_grid, time_grid, annot_times, annot_freqs\n",
    "    )\n",
    "    if plot:\n",
    "        plot_annot_target(annot_target, hcqt[0], annot_times, annot_freqs)\n",
    "\n",
    "    return hcqt, annot_target, freq_grid, time_grid"
   ]
  },
  {
   "cell_type": "code",
   "execution_count": null,
   "metadata": {},
   "outputs": [],
   "source": [
    "save_dir = \"../output/training_data/\"\n",
    "\n",
    "failed_tracks = [\n",
    "    'ChrisJacoby_BoothShotLincoln',\n",
    "    'HezekiahJones_BorrowedHeart',\n",
    "    'Handel_TornamiAVagheggiar',\n",
    "    'JoelHelander_Definition',\n",
    "    'JoelHelander_ExcessiveResistancetoChange',\n",
    "    'JoelHelander_IntheAtticBedroom'\n",
    "]\n",
    "\n",
    "mtracks = mdb.load_all_multitracks(dataset_version=['V1'])\n",
    "for mtrack in mtracks:\n",
    "    print(mtrack.track_id)\n",
    "    \n",
    "    if mtrack.track_id in failed_tracks:\n",
    "        continue\n",
    "    \n",
    "    stem = mtrack.predominant_stem\n",
    "    if stem is None:\n",
    "        continue\n",
    "\n",
    "    data = stem.pitch_annotation\n",
    "    save_path = os.path.join(\n",
    "        save_dir,\n",
    "        \"{}_STEM_{}.npz\".format(mtrack.track_id, stem.stem_idx)\n",
    "    )\n",
    "\n",
    "    if data is not None:\n",
    "        print(\"    > Stem {} {}\".format(stem.stem_idx, stem.instrument))\n",
    "        annot = np.array(data).T\n",
    "    else:\n",
    "        continue\n",
    "\n",
    "    if os.path.exists(save_path):\n",
    "        one_stem_done = True\n",
    "        continue\n",
    "\n",
    "    if not os.path.exists(stem.audio_path):\n",
    "        print(\"        >downloading stem...\")\n",
    "        download.download_stem(mtrack, stem.stem_idx)\n",
    "        print(\"         done!\")\n",
    "\n",
    "    try:\n",
    "        data_in, data_out, freq, time = get_input_output_pairs_solo_pitch(\n",
    "            stem.audio_path, annot[0], annot[1]\n",
    "        )\n",
    "\n",
    "        np.savez(save_path, data_in=data_in, data_out=data_out, freq=freq, time=time)\n",
    "    except:\n",
    "        print(\"    > Something failed :(\")\n"
   ]
  },
  {
   "cell_type": "code",
   "execution_count": null,
   "metadata": {},
   "outputs": [],
   "source": []
  },
  {
   "cell_type": "code",
   "execution_count": null,
   "metadata": {},
   "outputs": [],
   "source": [
    "mtrack = mdb.MultiTrack(\"MusicDelta_Beatles\")\n",
    "data_input, data_target = get_input_output_pairs(mtrack)"
   ]
  },
  {
   "cell_type": "code",
   "execution_count": null,
   "metadata": {},
   "outputs": [],
   "source": []
  }
 ],
 "metadata": {
  "kernelspec": {
   "display_name": "Python 2",
   "language": "python",
   "name": "python2"
  },
  "language_info": {
   "codemirror_mode": {
    "name": "ipython",
    "version": 2
   },
   "file_extension": ".py",
   "mimetype": "text/x-python",
   "name": "python",
   "nbconvert_exporter": "python",
   "pygments_lexer": "ipython2",
   "version": "2.7.9"
  }
 },
 "nbformat": 4,
 "nbformat_minor": 2
}
