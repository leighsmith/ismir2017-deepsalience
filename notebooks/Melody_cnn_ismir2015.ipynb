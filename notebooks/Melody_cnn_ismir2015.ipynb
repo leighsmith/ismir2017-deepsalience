{
 "cells": [
  {
   "cell_type": "markdown",
   "metadata": {},
   "source": [
    "Score the output of the CNN trained for multif0 + ismir 2015 contour classifier on the full mixes in the medleydb test set against the melody2 annotations\n",
    "\n",
    "**This was not used in the end**"
   ]
  },
  {
   "cell_type": "code",
   "execution_count": null,
   "metadata": {},
   "outputs": [],
   "source": [
    "import motif\n",
    "import motif.plot\n",
    "import numpy as np\n",
    "import mir_eval\n",
    "import os\n",
    "import medleydb as mdb\n",
    "import seaborn\n",
    "import glob\n",
    "import json\n",
    "import pandas as pd\n",
    "import matplotlib.pyplot as plt\n",
    "%matplotlib inline"
   ]
  },
  {
   "cell_type": "markdown",
   "metadata": {},
   "source": [
    "### Get Train/Test/Validation sets"
   ]
  },
  {
   "cell_type": "code",
   "execution_count": null,
   "metadata": {},
   "outputs": [],
   "source": [
    "with open(\"../outputs/data_splits.json\", 'r') as fhandle:\n",
    "    dat_dict = json.load(fhandle)\n",
    "\n",
    "def get_file_pairs(track_id_list):\n",
    "    file_pairs = []\n",
    "    for track_id in track_id_list:\n",
    "        mtrack = mdb.MultiTrack(track_id)\n",
    "        if mtrack.dataset_version != 'V1':\n",
    "            continue\n",
    "        npy_path = \"../comparisons/multif0/algorithm_outputs/experiment11b_output/fullmix_outputs/{}_prediction.npy\".format(track_id)\n",
    "        if os.path.exists(npy_path):\n",
    "            file_pairs.append([npy_path, mtrack.mix_path, mtrack.melody2_fpath, track_id])\n",
    "    return file_pairs\n",
    "\n",
    "file_pairs_train = get_file_pairs(dat_dict['train'])\n",
    "file_pairs_validate = get_file_pairs(dat_dict['validate'])\n",
    "file_pairs_test = get_file_pairs(dat_dict['test'])\n",
    "\n",
    "ftr_bitt = motif.feature_extractors.BitteliFeatures()"
   ]
  },
  {
   "cell_type": "markdown",
   "metadata": {},
   "source": [
    "### Get train/test/validate contours, features and labels"
   ]
  },
  {
   "cell_type": "code",
   "execution_count": null,
   "metadata": {},
   "outputs": [],
   "source": [
    "def get_XY_pairs(etr, ftr, file_pairs):\n",
    "    contour_list = {}\n",
    "    features_list = []\n",
    "    labels_list = []\n",
    "\n",
    "    for npy_path, mix_path, annotation, track_id in file_pairs:\n",
    "        print(track_id)\n",
    "        ctr = etr.compute_contours(npy_path, mix_path)\n",
    "        Y_train, _ = ctr.compute_labels(annotation)\n",
    "        X_train = ftr.compute_all(ctr)\n",
    "\n",
    "        features_list.append(X_train)\n",
    "        labels_list.append(Y_train)\n",
    "        contour_list[track_id] = ctr\n",
    "\n",
    "    X = np.concatenate(features_list)\n",
    "    Y = np.concatenate(labels_list)\n",
    "    return X, Y, contour_list"
   ]
  },
  {
   "cell_type": "code",
   "execution_count": null,
   "metadata": {},
   "outputs": [],
   "source": [
    "etr_cnn = motif.contour_extractors.DeepSal()\n",
    "\n",
    "X_train_cnn, Y_train_cnn, train_contours_cnn = \\\n",
    "    get_XY_pairs(etr_cnn, ftr_bitt, file_pairs_train)\n",
    "X_validate_cnn, Y_validate_cnn, validate_contours_cnn = \\\n",
    "    get_XY_pairs(etr_cnn, ftr_bitt, file_pairs_validate)\n",
    "X_test_cnn, Y_test_cnn, test_contours_cnn = \\\n",
    "    get_XY_pairs(etr_cnn, ftr_bitt, file_pairs_test)"
   ]
  },
  {
   "cell_type": "code",
   "execution_count": null,
   "metadata": {},
   "outputs": [],
   "source": [
    "X_validate_cnn, Y_validate_cnn, validate_contours_cnn = \\\n",
    "    get_XY_pairs(etr_cnn, ftr_bitt, file_pairs_validate)"
   ]
  },
  {
   "cell_type": "markdown",
   "metadata": {},
   "source": [
    "### Train contour classifier"
   ]
  },
  {
   "cell_type": "code",
   "execution_count": null,
   "metadata": {},
   "outputs": [],
   "source": [
    "clf_cnn = motif.contour_classifiers.RandomForest()\n",
    "clf_cnn.fit(X_train_cnn, Y_train_cnn)"
   ]
  },
  {
   "cell_type": "markdown",
   "metadata": {},
   "source": [
    "### Compute classification scores"
   ]
  },
  {
   "cell_type": "code",
   "execution_count": null,
   "metadata": {},
   "outputs": [],
   "source": [
    "def score_classifier(clf, X, Y_true):\n",
    "    Y_prob = clf.predict(X)\n",
    "    Y_pred = (np.array(Y_prob >= clf.threshold)).astype(int)\n",
    "    scores = clf.score(Y_pred, Y_true, y_prob=Y_prob)\n",
    "    return scores"
   ]
  },
  {
   "cell_type": "code",
   "execution_count": null,
   "metadata": {},
   "outputs": [],
   "source": [
    "train_scores = score_classifier(clf_cnn, X_train_cnn, Y_train_cnn)\n",
    "validate_scores = score_classifier(clf_cnn, X_validate_cnn, Y_validate_cnn)\n",
    "test_scores = score_classifier(clf_cnn, X_test_cnn, Y_test_cnn)\n",
    "\n",
    "print(train_scores)\n",
    "print(validate_scores)\n",
    "print(test_scores)"
   ]
  },
  {
   "cell_type": "markdown",
   "metadata": {},
   "source": [
    "### Get contour melody probabilities"
   ]
  },
  {
   "cell_type": "code",
   "execution_count": null,
   "metadata": {},
   "outputs": [],
   "source": [
    "def get_contour_melprobs(ftr, clf, contours_dict):\n",
    "    scores = {}\n",
    "\n",
    "    for trackid, ctr in contours_dict.items():\n",
    "        print(trackid)\n",
    "        X = ftr.compute_all(ctr)\n",
    "        Y = clf.predict(X)\n",
    "        scores[trackid] = Y\n",
    "\n",
    "    return scores"
   ]
  },
  {
   "cell_type": "code",
   "execution_count": null,
   "metadata": {},
   "outputs": [],
   "source": [
    "validation_melprobs = get_contour_melprobs(\n",
    "    ftr_bitt, clf_cnn, validate_contours_cnn\n",
    ")\n",
    "test_melprobs = get_contour_melprobs(\n",
    "    ftr_bitt, clf_cnn, test_contours_cnn\n",
    ")"
   ]
  },
  {
   "cell_type": "markdown",
   "metadata": {},
   "source": [
    "### Get best probability threshold"
   ]
  },
  {
   "cell_type": "code",
   "execution_count": null,
   "metadata": {},
   "outputs": [],
   "source": [
    "reload(motif)\n",
    "reload(motif.contour_decoders)\n",
    "reload(motif.contour_decoders.maximum)"
   ]
  },
  {
   "cell_type": "code",
   "execution_count": null,
   "metadata": {},
   "outputs": [],
   "source": [
    "dcd = motif.contour_decoders.MaxDecoder()\n",
    "dcd.dummy()"
   ]
  },
  {
   "cell_type": "code",
   "execution_count": null,
   "metadata": {},
   "outputs": [],
   "source": [
    "thresh_vals = np.arange(0, 0.4, 0.01)\n",
    "mel_accuracy = {v: [] for v in thresh_vals}\n",
    "\n",
    "for trackid in validate_contours_cnn.keys():\n",
    "    print(trackid)\n",
    "    mtrack = mdb.MultiTrack(trackid)\n",
    "\n",
    "    ctr = validate_contours_cnn[trackid]\n",
    "    scores = validation_melprobs[trackid]    \n",
    "    \n",
    "    mel2 = mtrack.melody2_annotation\n",
    "    mel2 = np.array(mel2).T\n",
    "    ref_times, ref_freqs = (mel2[0], mel2[1])\n",
    "\n",
    "    for thresh in thresh_vals:\n",
    "        dcd = motif.contour_decoders.MaxDecoder(thresh=thresh)\n",
    "        est_times, est_freqs = dcd.decode(ctr, scores)\n",
    "\n",
    "        mel_scores = mir_eval.melody.evaluate(ref_times, ref_freqs, est_times, est_freqs)\n",
    "        mel_accuracy[thresh].append(mel_scores['Overall Accuracy'])"
   ]
  },
  {
   "cell_type": "code",
   "execution_count": null,
   "metadata": {},
   "outputs": [],
   "source": [
    "accuracy_vals = [np.mean(mel_accuracy[thresh]) for thresh in thresh_vals]\n",
    "best_thresh_idx = np.argmax(accuracy_vals)\n",
    "best_thresh = thresh_vals[best_thresh_idx]\n",
    "\n",
    "print(\"Best threshold is {} with an OA of {}\".format(\n",
    "    best_thresh, accuracy_vals[best_thresh_idx])\n",
    ")"
   ]
  },
  {
   "cell_type": "markdown",
   "metadata": {},
   "source": [
    "### Score Melody Outputs on Test Set"
   ]
  },
  {
   "cell_type": "code",
   "execution_count": null,
   "metadata": {},
   "outputs": [],
   "source": [
    "dcd = motif.contour_decoders.MaxDecoder(thresh=best_thresh)\n",
    "\n",
    "all_mel_scores = []\n",
    "for trackid in test_contours_cnn.keys():\n",
    "    print(trackid)\n",
    "    mtrack = mdb.MultiTrack(trackid)\n",
    "    \n",
    "    ctr = test_contours_cnn[trackid]\n",
    "    scores = test_melprobs[trackid]\n",
    "\n",
    "    mel2 = mtrack.melody2_annotation\n",
    "    mel2 = np.array(mel2).T\n",
    "    ref_times, ref_freqs = (mel2[0], mel2[1])\n",
    "    est_times, est_freqs = dcd.decode(ctr, scores)\n",
    "\n",
    "    plt.figure(figsize=(15, 7))\n",
    "    plt.title(trackid)\n",
    "    plt.plot(ref_times, ref_freqs, '.k', markersize=8)\n",
    "    plt.plot(est_times, est_freqs, '.r', markersize=3)\n",
    "    plt.show()\n",
    "\n",
    "    mel_scores = mir_eval.melody.evaluate(ref_times, ref_freqs, est_times, est_freqs)\n",
    "    all_mel_scores.append(mel_scores)\n",
    "\n",
    "mel_scores_df = pd.DataFrame(all_mel_scores)\n",
    "mel_scores_df.to_csv(\"../outputs/CNN_contourclf_mel2_scores.csv\")"
   ]
  },
  {
   "cell_type": "code",
   "execution_count": null,
   "metadata": {},
   "outputs": [],
   "source": [
    "mel_scores_df.describe()"
   ]
  },
  {
   "cell_type": "markdown",
   "metadata": {},
   "source": [
    "### Get scores for partial mixes"
   ]
  },
  {
   "cell_type": "code",
   "execution_count": null,
   "metadata": {},
   "outputs": [],
   "source": [
    "track_id_list = dat_dict['test']\n",
    "file_pairs_test_partial = []\n",
    "for track_id in track_id_list:\n",
    "    mtrack = mdb.MultiTrack(track_id)\n",
    "    if mtrack.dataset_version != 'V1':\n",
    "        continue\n",
    "    npy_path = \"../comparisons/multif0/algorithm_outputs/experiment11b_output/{}_prediction.npy\".format(track_id)\n",
    "    if os.path.exists(npy_path) and os.path.exists(mtrack.melody2_fpath):\n",
    "        file_pairs_test_partial.append([npy_path, mtrack.mix_path, mtrack.melody2_fpath, track_id])"
   ]
  },
  {
   "cell_type": "code",
   "execution_count": null,
   "metadata": {},
   "outputs": [],
   "source": [
    "X_test_cnn_partial, Y_test_cnn_partial, test_contours_cnn_partial = \\\n",
    "    get_XY_pairs(etr_cnn, ftr_bitt, file_pairs_test_partial)"
   ]
  },
  {
   "cell_type": "code",
   "execution_count": null,
   "metadata": {},
   "outputs": [],
   "source": [
    "test_melprobs_partial = get_contour_melprobs(\n",
    "    ftr_bitt, clf_cnn, test_contours_cnn_partial\n",
    ")"
   ]
  },
  {
   "cell_type": "code",
   "execution_count": null,
   "metadata": {},
   "outputs": [],
   "source": [
    "dcd = motif.contour_decoders.MaxDecoder(thresh=best_thresh)\n",
    "\n",
    "all_mel_scores = []\n",
    "for trackid in test_contours_cnn_partial.keys():\n",
    "    print(trackid)\n",
    "    mtrack = mdb.MultiTrack(trackid)\n",
    "    \n",
    "    ctr = test_contours_cnn_partial[trackid]\n",
    "    scores = test_melprobs_partial[trackid]\n",
    "\n",
    "    mel2 = mtrack.melody2_annotation\n",
    "    mel2 = np.array(mel2).T\n",
    "    ref_times, ref_freqs = (mel2[0], mel2[1])\n",
    "    est_times, est_freqs = dcd.decode(ctr, scores)\n",
    "\n",
    "    plt.figure(figsize=(15, 7))\n",
    "    plt.title(trackid)\n",
    "    plt.plot(ref_times, ref_freqs, '.k', markersize=8)\n",
    "    plt.plot(est_times, est_freqs, '.r', markersize=3)\n",
    "    plt.show()\n",
    "\n",
    "    mel_scores = mir_eval.melody.evaluate(ref_times, ref_freqs, est_times, est_freqs)\n",
    "    all_mel_scores.append(mel_scores)\n",
    "\n",
    "mel_scores_df_partial = pd.DataFrame(all_mel_scores)\n",
    "mel_scores_df_partial.to_csv(\"../outputs/CNN_contourclf_mel2_scores_partial.csv\")"
   ]
  },
  {
   "cell_type": "code",
   "execution_count": null,
   "metadata": {},
   "outputs": [],
   "source": [
    "mel_scores_df_partial.describe()"
   ]
  },
  {
   "cell_type": "code",
   "execution_count": null,
   "metadata": {},
   "outputs": [],
   "source": []
  }
 ],
 "metadata": {
  "kernelspec": {
   "display_name": "Python 2",
   "language": "python",
   "name": "python2"
  },
  "language_info": {
   "codemirror_mode": {
    "name": "ipython",
    "version": 2
   },
   "file_extension": ".py",
   "mimetype": "text/x-python",
   "name": "python",
   "nbconvert_exporter": "python",
   "pygments_lexer": "ipython2",
   "version": "2.7.13"
  }
 },
 "nbformat": 4,
 "nbformat_minor": 2
}
